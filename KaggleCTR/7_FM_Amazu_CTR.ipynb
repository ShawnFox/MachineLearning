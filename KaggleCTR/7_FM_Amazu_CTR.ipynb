{
 "cells": [
  {
   "cell_type": "markdown",
   "metadata": {},
   "source": [
    "# Amazu CTR的实现"
   ]
  },
  {
   "cell_type": "code",
   "execution_count": 5,
   "metadata": {},
   "outputs": [],
   "source": [
    "# 导入必要的工具包\n",
    "import numpy as np\n",
    "import pandas as pd\n",
    "import gc\n",
    "import matplotlib.pyplot as plt\n",
    "import seaborn as sns\n",
    "%matplotlib inline\n",
    "\n",
    "import xlearn as xl"
   ]
  },
  {
   "cell_type": "markdown",
   "metadata": {},
   "source": [
    "## 1、准备数据"
   ]
  },
  {
   "cell_type": "markdown",
   "metadata": {},
   "source": [
    "### 1.1 读取数据"
   ]
  },
  {
   "cell_type": "code",
   "execution_count": 2,
   "metadata": {
    "scrolled": false
   },
   "outputs": [],
   "source": [
    "# raw data 2 (for read)\n",
    "fp_raw_train = \"./data/train_GBDT.csv\"\n",
    "fp_raw_test = \"./data/test_GBDT.csv\"\n",
    "\n",
    "# input\n",
    "fp_train = \"./data/fm/train_ffm.txt\"\n",
    "fp_valid = \"./data/fm/valid_ffm.txt\"\n",
    "fp_test = \"./data/fm/test_ffm.txt\"\n",
    "\n",
    "# output\n",
    "fp_model_fm = \"./data/fm/model_fm.out\"\n",
    "fp_model_ffm = \"./data/fm/model_ffm.out\"\n",
    "fp_pred_fm  = \"./data/fm/output_fm.txt\"\n",
    "fp_pred_ffm = \"./data/fm/output_ffm.txt\"\n",
    "\n",
    "# submissions\n",
    "fp_sub_fm = \"./data/fm/Submission_FM.csv\"\n",
    "fp_sub_ffm = \"./data/fm/Submission_FFM.csv\""
   ]
  },
  {
   "cell_type": "markdown",
   "metadata": {},
   "source": [
    "### 1.2 数据分类"
   ]
  },
  {
   "cell_type": "code",
   "execution_count": 7,
   "metadata": {},
   "outputs": [],
   "source": [
    "# ================ data prepare ================== #\n",
    "# feature names\n",
    "cols = []\n",
    "for i in range(42):\n",
    "    cols.append('Class_' + str(i+1))\n",
    "\n",
    "cols_train = ['id', 'click']\n",
    "cols_test = ['id']\n",
    "cols_train.extend(cols)\n",
    "cols_test.extend(cols)\n",
    "\n",
    "# train set\n",
    "df_train = pd.read_csv(fp_raw_train)\n",
    "\n",
    "# test set\n",
    "df_test = pd.read_csv(fp_raw_test)\n",
    "df_test['click'] = -1"
   ]
  },
  {
   "cell_type": "markdown",
   "metadata": {},
   "source": [
    "## 2、模型训练"
   ]
  },
  {
   "cell_type": "code",
   "execution_count": 8,
   "metadata": {},
   "outputs": [
    {
     "data": {
      "text/plain": [
       "52"
      ]
     },
     "execution_count": 8,
     "metadata": {},
     "output_type": "execute_result"
    }
   ],
   "source": [
    "# ----- merge train-test set ----- #\n",
    "n_train = len(df_train)\n",
    "n_test = len(df_test)\n",
    "df = df_train.append(df_test)\n",
    "del df_train, df_test\n",
    "gc.collect()"
   ]
  },
  {
   "cell_type": "code",
   "execution_count": 9,
   "metadata": {},
   "outputs": [],
   "source": [
    "# ----- format data file (format as libffm) for train/valid/test ----- #\n",
    "def convert_to_ffm(df, numerics, categories, features, Label, n_train, train_size=0.5):\n",
    "    \"\"\"\n",
    "    :function: generation of train/valid/test set format as libffm\n",
    "\n",
    "    :parameters:\n",
    "        :df, pandas dataframe include raw data of train and test.\n",
    "        :numerics, name list of numerical features.\n",
    "        :categories, name list of categorical features.\n",
    "        :features, name list of all features.\n",
    "        :Label, name of label in the df.\n",
    "        :n_train, number of training samples.\n",
    "        :train_size, the ratio of train_valid split.\n",
    "    \"\"\"\n",
    "    catdict = {}\n",
    "    # Flagging categorical and numerical fields\n",
    "    for x in numerics:\n",
    "        catdict[x] = 0\n",
    "    for x in categories:\n",
    "        catdict[x] = 1\n",
    "\n",
    "    nrows = df.shape[0]\n",
    "\n",
    "    # samples' number of train\n",
    "    n1 = n_train * train_size\n",
    "\n",
    "    with open(fp_train, \"w\") as file_train, \\\n",
    "            open(fp_valid, \"w\") as file_valid, \\\n",
    "            open(fp_test, \"w\")  as file_test:\n",
    "\n",
    "        # Looping over rows to convert each row to libffm format\n",
    "        for n, r in enumerate(range(nrows)):\n",
    "\n",
    "            datastring = \"\"\n",
    "            datarow = df.iloc[r].to_dict()\n",
    "            datastring += str(int(datarow[Label]))\n",
    "            # For  fields, we are creating a dummy field here\n",
    "            for i, x in enumerate(catdict.keys()):\n",
    "                if (catdict[x] == 0):  # numerical\n",
    "                    datastring = datastring + \" \" + str(i) + \":\" + str(i) + \":\" + str(datarow[x])\n",
    "                else:  # categorical\n",
    "                    datastring = datastring + \" \" + str(i) + \":\" + str(int(datarow[x])) + \":1\"\n",
    "            datastring += '\\n'\n",
    "\n",
    "            if n < n1:\n",
    "                file_train.write(datastring)\n",
    "            elif n < n_train:\n",
    "                file_valid.write(datastring)\n",
    "            else:\n",
    "                file_test.write(datastring)\n",
    "\n",
    "\n",
    "convert_to_ffm(df, numerics=[], categories=cols, features=cols, Label='click', n_train=n_train, train_size=0.8)"
   ]
  },
  {
   "cell_type": "code",
   "execution_count": 10,
   "metadata": {},
   "outputs": [],
   "source": [
    "# ================ FM ================== #\n",
    "# setting\n",
    "fm_model = xl.create_fm()  # Use factorization machine\n",
    "fm_model.setTrain(fp_train)   # Training data\n",
    "fm_model.setValidate(fp_test)  # Validation data\n",
    "fm_model.setSigmoid()\n",
    "\n",
    "param = {'task': 'binary',\n",
    "         'k': 20,\n",
    "         'lr': 0.02,\n",
    "         'lambda': 0.002,\n",
    "         'epoch': 100,\n",
    "         'opt': 'adagrad'\n",
    "         }\n",
    "\n",
    "# training\n",
    "fm_model.fit(param, fp_model_fm)\n",
    "\n",
    "# testing\n",
    "fm_model.setTest(fp_test)\n",
    "fm_model.setSigmoid()\n",
    "fm_model.predict(fp_model_fm, fp_pred_fm)"
   ]
  },
  {
   "cell_type": "code",
   "execution_count": null,
   "metadata": {},
   "outputs": [],
   "source": []
  }
 ],
 "metadata": {
  "kernelspec": {
   "display_name": "Python 3",
   "language": "python",
   "name": "python3"
  },
  "language_info": {
   "codemirror_mode": {
    "name": "ipython",
    "version": 3
   },
   "file_extension": ".py",
   "mimetype": "text/x-python",
   "name": "python",
   "nbconvert_exporter": "python",
   "pygments_lexer": "ipython3",
   "version": "3.7.1"
  }
 },
 "nbformat": 4,
 "nbformat_minor": 2
}
