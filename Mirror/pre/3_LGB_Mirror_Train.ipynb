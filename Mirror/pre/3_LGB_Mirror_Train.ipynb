{
 "cells": [
  {
   "cell_type": "markdown",
   "metadata": {},
   "source": [
    "# 训练LGB模型"
   ]
  },
  {
   "cell_type": "code",
   "execution_count": 1,
   "metadata": {},
   "outputs": [],
   "source": [
    "#首先 import 必要的模块\n",
    "import pandas as pd\n",
    "import numpy as np\n",
    "\n",
    "import lightgbm as lgbm\n",
    "from lightgbm.sklearn import LGBMClassifier\n",
    "\n",
    "from sklearn.model_selection import GridSearchCV\n",
    "\n",
    "import matplotlib.pyplot as plt\n",
    "%matplotlib inline"
   ]
  },
  {
   "cell_type": "markdown",
   "metadata": {},
   "source": [
    "## 读取数据"
   ]
  },
  {
   "cell_type": "code",
   "execution_count": 3,
   "metadata": {},
   "outputs": [],
   "source": [
    "# 数据路径\n",
    "dpath = './data/FE/'\n",
    "\n",
    "# 数据名称\n",
    "train_file = 'train_FE.csv'\n",
    "\n",
    "train = pd.read_csv(dpath + train_file)"
   ]
  },
  {
   "cell_type": "code",
   "execution_count": 4,
   "metadata": {
    "scrolled": true
   },
   "outputs": [
    {
     "name": "stdout",
     "output_type": "stream",
     "text": [
      "<class 'pandas.core.frame.DataFrame'>\n",
      "RangeIndex: 1000000 entries, 0 to 999999\n",
      "Columns: 472 entries, user_id to amt_labels\n",
      "dtypes: float64(23), int64(443), object(6)\n",
      "memory usage: 3.5+ GB\n"
     ]
    }
   ],
   "source": [
    "train.info()"
   ]
  },
  {
   "cell_type": "code",
   "execution_count": 5,
   "metadata": {},
   "outputs": [],
   "source": [
    "# 数据名称\n",
    "tag_file = 'my_user_taglist_embedding_16.csv'\n",
    "\n",
    "tag_df = pd.read_csv(dpath + tag_file, parse_dates=['tag_insert_date'])"
   ]
  },
  {
   "cell_type": "code",
   "execution_count": 6,
   "metadata": {
    "scrolled": true
   },
   "outputs": [
    {
     "data": {
      "text/html": [
       "<div>\n",
       "<style scoped>\n",
       "    .dataframe tbody tr th:only-of-type {\n",
       "        vertical-align: middle;\n",
       "    }\n",
       "\n",
       "    .dataframe tbody tr th {\n",
       "        vertical-align: top;\n",
       "    }\n",
       "\n",
       "    .dataframe thead th {\n",
       "        text-align: right;\n",
       "    }\n",
       "</style>\n",
       "<table border=\"1\" class=\"dataframe\">\n",
       "  <thead>\n",
       "    <tr style=\"text-align: right;\">\n",
       "      <th></th>\n",
       "      <th>user_id</th>\n",
       "      <th>tag_insert_date</th>\n",
       "      <th>user_tag_em0</th>\n",
       "      <th>user_tag_em1</th>\n",
       "      <th>user_tag_em2</th>\n",
       "      <th>user_tag_em3</th>\n",
       "      <th>user_tag_em4</th>\n",
       "      <th>user_tag_em5</th>\n",
       "      <th>user_tag_em6</th>\n",
       "      <th>user_tag_em7</th>\n",
       "      <th>user_tag_em8</th>\n",
       "      <th>user_tag_em9</th>\n",
       "      <th>user_tag_em10</th>\n",
       "      <th>user_tag_em11</th>\n",
       "      <th>user_tag_em12</th>\n",
       "      <th>user_tag_em13</th>\n",
       "      <th>user_tag_em14</th>\n",
       "      <th>user_tag_em15</th>\n",
       "    </tr>\n",
       "  </thead>\n",
       "  <tbody>\n",
       "    <tr>\n",
       "      <th>0</th>\n",
       "      <td>847942</td>\n",
       "      <td>2019-03-30</td>\n",
       "      <td>-0.009541</td>\n",
       "      <td>0.046927</td>\n",
       "      <td>0.150124</td>\n",
       "      <td>0.067106</td>\n",
       "      <td>-0.053549</td>\n",
       "      <td>-0.052527</td>\n",
       "      <td>-0.118447</td>\n",
       "      <td>-0.189506</td>\n",
       "      <td>0.047880</td>\n",
       "      <td>0.045362</td>\n",
       "      <td>0.005770</td>\n",
       "      <td>0.047658</td>\n",
       "      <td>0.076804</td>\n",
       "      <td>0.092214</td>\n",
       "      <td>-0.036028</td>\n",
       "      <td>-0.013745</td>\n",
       "    </tr>\n",
       "    <tr>\n",
       "      <th>1</th>\n",
       "      <td>13643</td>\n",
       "      <td>2019-03-30</td>\n",
       "      <td>-0.128934</td>\n",
       "      <td>-0.199308</td>\n",
       "      <td>0.050897</td>\n",
       "      <td>-0.031567</td>\n",
       "      <td>0.035126</td>\n",
       "      <td>0.102144</td>\n",
       "      <td>0.116876</td>\n",
       "      <td>-0.174700</td>\n",
       "      <td>0.137516</td>\n",
       "      <td>-0.054134</td>\n",
       "      <td>0.332327</td>\n",
       "      <td>0.098563</td>\n",
       "      <td>0.186932</td>\n",
       "      <td>-0.046062</td>\n",
       "      <td>-0.077789</td>\n",
       "      <td>0.089081</td>\n",
       "    </tr>\n",
       "    <tr>\n",
       "      <th>2</th>\n",
       "      <td>740882</td>\n",
       "      <td>2019-03-30</td>\n",
       "      <td>0.014962</td>\n",
       "      <td>-0.068173</td>\n",
       "      <td>0.080191</td>\n",
       "      <td>0.037246</td>\n",
       "      <td>0.153650</td>\n",
       "      <td>0.041137</td>\n",
       "      <td>-0.073232</td>\n",
       "      <td>-0.168886</td>\n",
       "      <td>0.130458</td>\n",
       "      <td>0.115955</td>\n",
       "      <td>0.087409</td>\n",
       "      <td>-0.095562</td>\n",
       "      <td>0.192777</td>\n",
       "      <td>0.137690</td>\n",
       "      <td>-0.172390</td>\n",
       "      <td>-0.178010</td>\n",
       "    </tr>\n",
       "    <tr>\n",
       "      <th>3</th>\n",
       "      <td>905326</td>\n",
       "      <td>2019-03-30</td>\n",
       "      <td>-0.056296</td>\n",
       "      <td>-0.154246</td>\n",
       "      <td>-0.035075</td>\n",
       "      <td>0.024448</td>\n",
       "      <td>-0.136231</td>\n",
       "      <td>-0.172483</td>\n",
       "      <td>-0.298507</td>\n",
       "      <td>0.035442</td>\n",
       "      <td>-0.029554</td>\n",
       "      <td>0.036552</td>\n",
       "      <td>0.324608</td>\n",
       "      <td>0.018503</td>\n",
       "      <td>0.026310</td>\n",
       "      <td>0.328730</td>\n",
       "      <td>-0.097493</td>\n",
       "      <td>0.015569</td>\n",
       "    </tr>\n",
       "    <tr>\n",
       "      <th>4</th>\n",
       "      <td>411367</td>\n",
       "      <td>2019-03-30</td>\n",
       "      <td>-0.019651</td>\n",
       "      <td>-0.119835</td>\n",
       "      <td>0.007948</td>\n",
       "      <td>0.046666</td>\n",
       "      <td>0.018225</td>\n",
       "      <td>-0.120978</td>\n",
       "      <td>0.045126</td>\n",
       "      <td>-0.032201</td>\n",
       "      <td>0.119008</td>\n",
       "      <td>0.030255</td>\n",
       "      <td>-0.025160</td>\n",
       "      <td>0.045501</td>\n",
       "      <td>-0.004733</td>\n",
       "      <td>0.066168</td>\n",
       "      <td>-0.091798</td>\n",
       "      <td>-0.056811</td>\n",
       "    </tr>\n",
       "  </tbody>\n",
       "</table>\n",
       "</div>"
      ],
      "text/plain": [
       "   user_id tag_insert_date  user_tag_em0  user_tag_em1  user_tag_em2  \\\n",
       "0   847942      2019-03-30     -0.009541      0.046927      0.150124   \n",
       "1    13643      2019-03-30     -0.128934     -0.199308      0.050897   \n",
       "2   740882      2019-03-30      0.014962     -0.068173      0.080191   \n",
       "3   905326      2019-03-30     -0.056296     -0.154246     -0.035075   \n",
       "4   411367      2019-03-30     -0.019651     -0.119835      0.007948   \n",
       "\n",
       "   user_tag_em3  user_tag_em4  user_tag_em5  user_tag_em6  user_tag_em7  \\\n",
       "0      0.067106     -0.053549     -0.052527     -0.118447     -0.189506   \n",
       "1     -0.031567      0.035126      0.102144      0.116876     -0.174700   \n",
       "2      0.037246      0.153650      0.041137     -0.073232     -0.168886   \n",
       "3      0.024448     -0.136231     -0.172483     -0.298507      0.035442   \n",
       "4      0.046666      0.018225     -0.120978      0.045126     -0.032201   \n",
       "\n",
       "   user_tag_em8  user_tag_em9  user_tag_em10  user_tag_em11  user_tag_em12  \\\n",
       "0      0.047880      0.045362       0.005770       0.047658       0.076804   \n",
       "1      0.137516     -0.054134       0.332327       0.098563       0.186932   \n",
       "2      0.130458      0.115955       0.087409      -0.095562       0.192777   \n",
       "3     -0.029554      0.036552       0.324608       0.018503       0.026310   \n",
       "4      0.119008      0.030255      -0.025160       0.045501      -0.004733   \n",
       "\n",
       "   user_tag_em13  user_tag_em14  user_tag_em15  \n",
       "0       0.092214      -0.036028      -0.013745  \n",
       "1      -0.046062      -0.077789       0.089081  \n",
       "2       0.137690      -0.172390      -0.178010  \n",
       "3       0.328730      -0.097493       0.015569  \n",
       "4       0.066168      -0.091798      -0.056811  "
      ]
     },
     "execution_count": 6,
     "metadata": {},
     "output_type": "execute_result"
    }
   ],
   "source": [
    "tag_df.head()"
   ]
  },
  {
   "cell_type": "code",
   "execution_count": 7,
   "metadata": {},
   "outputs": [],
   "source": [
    "behavior_file = 'new_user_behavior.csv'\n",
    "behavior_df = pd.read_csv(dpath + behavior_file)"
   ]
  },
  {
   "cell_type": "code",
   "execution_count": 8,
   "metadata": {
    "scrolled": true
   },
   "outputs": [
    {
     "data": {
      "text/html": [
       "<div>\n",
       "<style scoped>\n",
       "    .dataframe tbody tr th:only-of-type {\n",
       "        vertical-align: middle;\n",
       "    }\n",
       "\n",
       "    .dataframe tbody tr th {\n",
       "        vertical-align: top;\n",
       "    }\n",
       "\n",
       "    .dataframe thead th {\n",
       "        text-align: right;\n",
       "    }\n",
       "</style>\n",
       "<table border=\"1\" class=\"dataframe\">\n",
       "  <thead>\n",
       "    <tr style=\"text-align: right;\">\n",
       "      <th></th>\n",
       "      <th>user_id</th>\n",
       "      <th>sum</th>\n",
       "      <th>behaviro_type1</th>\n",
       "      <th>behaviro_type2</th>\n",
       "      <th>behaviro_type3</th>\n",
       "    </tr>\n",
       "  </thead>\n",
       "  <tbody>\n",
       "    <tr>\n",
       "      <th>0</th>\n",
       "      <td>1</td>\n",
       "      <td>28</td>\n",
       "      <td>13.0</td>\n",
       "      <td>NaN</td>\n",
       "      <td>15.0</td>\n",
       "    </tr>\n",
       "    <tr>\n",
       "      <th>1</th>\n",
       "      <td>3</td>\n",
       "      <td>47</td>\n",
       "      <td>46.0</td>\n",
       "      <td>NaN</td>\n",
       "      <td>1.0</td>\n",
       "    </tr>\n",
       "    <tr>\n",
       "      <th>2</th>\n",
       "      <td>4</td>\n",
       "      <td>8</td>\n",
       "      <td>8.0</td>\n",
       "      <td>NaN</td>\n",
       "      <td>NaN</td>\n",
       "    </tr>\n",
       "    <tr>\n",
       "      <th>3</th>\n",
       "      <td>5</td>\n",
       "      <td>25</td>\n",
       "      <td>15.0</td>\n",
       "      <td>NaN</td>\n",
       "      <td>10.0</td>\n",
       "    </tr>\n",
       "    <tr>\n",
       "      <th>4</th>\n",
       "      <td>6</td>\n",
       "      <td>86</td>\n",
       "      <td>86.0</td>\n",
       "      <td>NaN</td>\n",
       "      <td>NaN</td>\n",
       "    </tr>\n",
       "  </tbody>\n",
       "</table>\n",
       "</div>"
      ],
      "text/plain": [
       "   user_id  sum  behaviro_type1  behaviro_type2  behaviro_type3\n",
       "0        1   28            13.0             NaN            15.0\n",
       "1        3   47            46.0             NaN             1.0\n",
       "2        4    8             8.0             NaN             NaN\n",
       "3        5   25            15.0             NaN            10.0\n",
       "4        6   86            86.0             NaN             NaN"
      ]
     },
     "execution_count": 8,
     "metadata": {},
     "output_type": "execute_result"
    }
   ],
   "source": [
    "behavior_df.head()"
   ]
  },
  {
   "cell_type": "code",
   "execution_count": 9,
   "metadata": {},
   "outputs": [
    {
     "name": "stdout",
     "output_type": "stream",
     "text": [
      "<class 'pandas.core.frame.DataFrame'>\n",
      "RangeIndex: 920161 entries, 0 to 920160\n",
      "Data columns (total 5 columns):\n",
      "user_id           920161 non-null int64\n",
      "sum               920161 non-null int64\n",
      "behaviro_type1    920107 non-null float64\n",
      "behaviro_type2    389360 non-null float64\n",
      "behaviro_type3    672720 non-null float64\n",
      "dtypes: float64(3), int64(2)\n",
      "memory usage: 35.1 MB\n"
     ]
    }
   ],
   "source": [
    "behavior_df.info()"
   ]
  },
  {
   "cell_type": "markdown",
   "metadata": {},
   "source": [
    "## 准备数据"
   ]
  },
  {
   "cell_type": "markdown",
   "metadata": {},
   "source": [
    "### 更改数据类型"
   ]
  },
  {
   "cell_type": "code",
   "execution_count": 10,
   "metadata": {
    "scrolled": true
   },
   "outputs": [
    {
     "data": {
      "text/html": [
       "<div>\n",
       "<style scoped>\n",
       "    .dataframe tbody tr th:only-of-type {\n",
       "        vertical-align: middle;\n",
       "    }\n",
       "\n",
       "    .dataframe tbody tr th {\n",
       "        vertical-align: top;\n",
       "    }\n",
       "\n",
       "    .dataframe thead th {\n",
       "        text-align: right;\n",
       "    }\n",
       "</style>\n",
       "<table border=\"1\" class=\"dataframe\">\n",
       "  <thead>\n",
       "    <tr style=\"text-align: right;\">\n",
       "      <th></th>\n",
       "      <th>user_id</th>\n",
       "      <th>listing_id</th>\n",
       "      <th>auditing_date</th>\n",
       "      <th>due_date</th>\n",
       "      <th>due_amt</th>\n",
       "      <th>term</th>\n",
       "      <th>rate</th>\n",
       "      <th>principal</th>\n",
       "      <th>reg_mon</th>\n",
       "      <th>gender</th>\n",
       "      <th>...</th>\n",
       "      <th>info_insert_date_year</th>\n",
       "      <th>info_insert_date_month</th>\n",
       "      <th>info_insert_date_day</th>\n",
       "      <th>info_insert_date_dayofweek</th>\n",
       "      <th>tag_insert_date_year</th>\n",
       "      <th>tag_insert_date_month</th>\n",
       "      <th>tag_insert_date_day</th>\n",
       "      <th>tag_insert_date_dayofweek</th>\n",
       "      <th>clf_label</th>\n",
       "      <th>amt_labels</th>\n",
       "    </tr>\n",
       "  </thead>\n",
       "  <tbody>\n",
       "    <tr>\n",
       "      <th>0</th>\n",
       "      <td>748147</td>\n",
       "      <td>3163926</td>\n",
       "      <td>2018-04-25</td>\n",
       "      <td>2018-05-25</td>\n",
       "      <td>72.1167</td>\n",
       "      <td>9</td>\n",
       "      <td>7.2</td>\n",
       "      <td>630</td>\n",
       "      <td>2017-12-01</td>\n",
       "      <td>0</td>\n",
       "      <td>...</td>\n",
       "      <td>2018</td>\n",
       "      <td>4</td>\n",
       "      <td>24</td>\n",
       "      <td>1</td>\n",
       "      <td>2018.0</td>\n",
       "      <td>11.0</td>\n",
       "      <td>12.0</td>\n",
       "      <td>0.0</td>\n",
       "      <td>0</td>\n",
       "      <td>72.1167</td>\n",
       "    </tr>\n",
       "    <tr>\n",
       "      <th>1</th>\n",
       "      <td>672952</td>\n",
       "      <td>3698760</td>\n",
       "      <td>2018-06-09</td>\n",
       "      <td>2018-07-09</td>\n",
       "      <td>258.7045</td>\n",
       "      <td>9</td>\n",
       "      <td>7.2</td>\n",
       "      <td>2260</td>\n",
       "      <td>2017-09-01</td>\n",
       "      <td>0</td>\n",
       "      <td>...</td>\n",
       "      <td>2018</td>\n",
       "      <td>6</td>\n",
       "      <td>4</td>\n",
       "      <td>0</td>\n",
       "      <td>2018.0</td>\n",
       "      <td>6.0</td>\n",
       "      <td>4.0</td>\n",
       "      <td>0.0</td>\n",
       "      <td>1</td>\n",
       "      <td>258.7045</td>\n",
       "    </tr>\n",
       "    <tr>\n",
       "      <th>2</th>\n",
       "      <td>404196</td>\n",
       "      <td>2355665</td>\n",
       "      <td>2018-02-18</td>\n",
       "      <td>2018-03-18</td>\n",
       "      <td>307.9270</td>\n",
       "      <td>9</td>\n",
       "      <td>7.2</td>\n",
       "      <td>2690</td>\n",
       "      <td>2017-02-01</td>\n",
       "      <td>0</td>\n",
       "      <td>...</td>\n",
       "      <td>2018</td>\n",
       "      <td>2</td>\n",
       "      <td>17</td>\n",
       "      <td>5</td>\n",
       "      <td>2018.0</td>\n",
       "      <td>2.0</td>\n",
       "      <td>17.0</td>\n",
       "      <td>5.0</td>\n",
       "      <td>-1</td>\n",
       "      <td>0.0000</td>\n",
       "    </tr>\n",
       "    <tr>\n",
       "      <th>3</th>\n",
       "      <td>342769</td>\n",
       "      <td>1994522</td>\n",
       "      <td>2018-01-13</td>\n",
       "      <td>2018-02-13</td>\n",
       "      <td>252.9809</td>\n",
       "      <td>9</td>\n",
       "      <td>7.2</td>\n",
       "      <td>2210</td>\n",
       "      <td>2016-12-01</td>\n",
       "      <td>0</td>\n",
       "      <td>...</td>\n",
       "      <td>2018</td>\n",
       "      <td>1</td>\n",
       "      <td>12</td>\n",
       "      <td>4</td>\n",
       "      <td>2018.0</td>\n",
       "      <td>1.0</td>\n",
       "      <td>12.0</td>\n",
       "      <td>4.0</td>\n",
       "      <td>0</td>\n",
       "      <td>252.9809</td>\n",
       "    </tr>\n",
       "    <tr>\n",
       "      <th>4</th>\n",
       "      <td>828139</td>\n",
       "      <td>3602352</td>\n",
       "      <td>2018-06-01</td>\n",
       "      <td>2018-07-01</td>\n",
       "      <td>107.6503</td>\n",
       "      <td>6</td>\n",
       "      <td>8.6</td>\n",
       "      <td>630</td>\n",
       "      <td>2018-04-01</td>\n",
       "      <td>0</td>\n",
       "      <td>...</td>\n",
       "      <td>2018</td>\n",
       "      <td>5</td>\n",
       "      <td>31</td>\n",
       "      <td>3</td>\n",
       "      <td>2018.0</td>\n",
       "      <td>5.0</td>\n",
       "      <td>31.0</td>\n",
       "      <td>3.0</td>\n",
       "      <td>6</td>\n",
       "      <td>107.6503</td>\n",
       "    </tr>\n",
       "  </tbody>\n",
       "</table>\n",
       "<p>5 rows × 51 columns</p>\n",
       "</div>"
      ],
      "text/plain": [
       "   user_id  listing_id auditing_date    due_date   due_amt  term  rate  \\\n",
       "0   748147     3163926    2018-04-25  2018-05-25   72.1167     9   7.2   \n",
       "1   672952     3698760    2018-06-09  2018-07-09  258.7045     9   7.2   \n",
       "2   404196     2355665    2018-02-18  2018-03-18  307.9270     9   7.2   \n",
       "3   342769     1994522    2018-01-13  2018-02-13  252.9809     9   7.2   \n",
       "4   828139     3602352    2018-06-01  2018-07-01  107.6503     6   8.6   \n",
       "\n",
       "   principal     reg_mon  gender  ...  info_insert_date_year  \\\n",
       "0        630  2017-12-01       0  ...                   2018   \n",
       "1       2260  2017-09-01       0  ...                   2018   \n",
       "2       2690  2017-02-01       0  ...                   2018   \n",
       "3       2210  2016-12-01       0  ...                   2018   \n",
       "4        630  2018-04-01       0  ...                   2018   \n",
       "\n",
       "   info_insert_date_month  info_insert_date_day  info_insert_date_dayofweek  \\\n",
       "0                       4                    24                           1   \n",
       "1                       6                     4                           0   \n",
       "2                       2                    17                           5   \n",
       "3                       1                    12                           4   \n",
       "4                       5                    31                           3   \n",
       "\n",
       "  tag_insert_date_year tag_insert_date_month tag_insert_date_day  \\\n",
       "0               2018.0                  11.0                12.0   \n",
       "1               2018.0                   6.0                 4.0   \n",
       "2               2018.0                   2.0                17.0   \n",
       "3               2018.0                   1.0                12.0   \n",
       "4               2018.0                   5.0                31.0   \n",
       "\n",
       "   tag_insert_date_dayofweek  clf_label  amt_labels  \n",
       "0                        0.0          0     72.1167  \n",
       "1                        0.0          1    258.7045  \n",
       "2                        5.0         -1      0.0000  \n",
       "3                        4.0          0    252.9809  \n",
       "4                        3.0          6    107.6503  \n",
       "\n",
       "[5 rows x 51 columns]"
      ]
     },
     "execution_count": 10,
     "metadata": {},
     "output_type": "execute_result"
    }
   ],
   "source": [
    "# # 设置日期型数据类型\n",
    "# date_cols = ['auditing_date', 'due_date', 'reg_mon', 'info_insert_date', 'tag_insert_date']\n",
    "# for col in date_cols:\n",
    "#     train[col] = pd.to_datetime(train[col])\n",
    "\n",
    "# # 将独热的数据类型改为uint8节省内存方便计算\n",
    "# oh_names = pd.read_csv(dpath + 'onehot_names.csv')\n",
    "# for col in oh_names.values:\n",
    "#     train[col] = train[col].astype('uint8')\n",
    "\n",
    "# 将独热的数据删除\n",
    "oh_names = pd.read_csv(dpath + 'onehot_names.csv')\n",
    "del_oh_names = []\n",
    "for index, row in oh_names.iterrows():\n",
    "    del_oh_names.append(row['oh_name'])\n",
    "train = train.drop(del_oh_names, axis=1)\n",
    "train.head()\n",
    "# train.columns"
   ]
  },
  {
   "cell_type": "code",
   "execution_count": 11,
   "metadata": {},
   "outputs": [],
   "source": [
    "train = train.merge(tag_df, on='user_id', how='left')"
   ]
  },
  {
   "cell_type": "code",
   "execution_count": 12,
   "metadata": {},
   "outputs": [
    {
     "name": "stdout",
     "output_type": "stream",
     "text": [
      "<class 'pandas.core.frame.DataFrame'>\n",
      "Int64Index: 1000000 entries, 0 to 999999\n",
      "Data columns (total 68 columns):\n",
      "user_id                       1000000 non-null int64\n",
      "listing_id                    1000000 non-null int64\n",
      "auditing_date                 1000000 non-null object\n",
      "due_date                      1000000 non-null object\n",
      "due_amt                       1000000 non-null float64\n",
      "term                          1000000 non-null int64\n",
      "rate                          1000000 non-null float64\n",
      "principal                     1000000 non-null int64\n",
      "reg_mon                       1000000 non-null object\n",
      "gender                        1000000 non-null int64\n",
      "age                           1000000 non-null int64\n",
      "cell_province                 1000000 non-null int64\n",
      "id_province                   1000000 non-null int64\n",
      "id_city                       1000000 non-null int64\n",
      "info_insert_date              1000000 non-null object\n",
      "taglist                       574469 non-null object\n",
      "tag_insert_date_x             574469 non-null object\n",
      "repay_mean                    884623 non-null float64\n",
      "early_repay_days_max          884623 non-null float64\n",
      "early_repay_days_median       884623 non-null float64\n",
      "early_repay_days_sum          884623 non-null float64\n",
      "early_repay_days_mean         884623 non-null float64\n",
      "early_repay_days_std          654532 non-null float64\n",
      "due_amt_max                   884623 non-null float64\n",
      "due_amt_min                   884623 non-null float64\n",
      "due_amt_median                884623 non-null float64\n",
      "due_amt_mean                  884623 non-null float64\n",
      "due_amt_sum                   884623 non-null float64\n",
      "due_amt_std                   654532 non-null float64\n",
      "due_amt_skew                  506186 non-null float64\n",
      "due_amt_kurt                  884623 non-null float64\n",
      "due_amt_ptp                   884623 non-null float64\n",
      "due_amt_per_days              1000000 non-null float64\n",
      "auditing_date_month           1000000 non-null int64\n",
      "auditing_date_day             1000000 non-null int64\n",
      "auditing_date_dayofweek       1000000 non-null int64\n",
      "due_date_month                1000000 non-null int64\n",
      "due_date_day                  1000000 non-null int64\n",
      "due_date_dayofweek            1000000 non-null int64\n",
      "reg_mon_year                  1000000 non-null int64\n",
      "reg_mon_month                 1000000 non-null int64\n",
      "info_insert_date_year         1000000 non-null int64\n",
      "info_insert_date_month        1000000 non-null int64\n",
      "info_insert_date_day          1000000 non-null int64\n",
      "info_insert_date_dayofweek    1000000 non-null int64\n",
      "tag_insert_date_year          574469 non-null float64\n",
      "tag_insert_date_month         574469 non-null float64\n",
      "tag_insert_date_day           574469 non-null float64\n",
      "tag_insert_date_dayofweek     574469 non-null float64\n",
      "clf_label                     1000000 non-null int64\n",
      "amt_labels                    1000000 non-null float64\n",
      "tag_insert_date_y             574469 non-null datetime64[ns]\n",
      "user_tag_em0                  574469 non-null float64\n",
      "user_tag_em1                  574469 non-null float64\n",
      "user_tag_em2                  574469 non-null float64\n",
      "user_tag_em3                  574469 non-null float64\n",
      "user_tag_em4                  574469 non-null float64\n",
      "user_tag_em5                  574469 non-null float64\n",
      "user_tag_em6                  574469 non-null float64\n",
      "user_tag_em7                  574469 non-null float64\n",
      "user_tag_em8                  574469 non-null float64\n",
      "user_tag_em9                  574469 non-null float64\n",
      "user_tag_em10                 574469 non-null float64\n",
      "user_tag_em11                 574469 non-null float64\n",
      "user_tag_em12                 574469 non-null float64\n",
      "user_tag_em13                 574469 non-null float64\n",
      "user_tag_em14                 574469 non-null float64\n",
      "user_tag_em15                 574469 non-null float64\n",
      "dtypes: datetime64[ns](1), float64(39), int64(22), object(6)\n",
      "memory usage: 526.4+ MB\n"
     ]
    }
   ],
   "source": [
    "train.info()"
   ]
  },
  {
   "cell_type": "code",
   "execution_count": 13,
   "metadata": {
    "scrolled": true
   },
   "outputs": [],
   "source": [
    "train = train.merge(behavior_df, on='user_id', how='left')"
   ]
  },
  {
   "cell_type": "code",
   "execution_count": 14,
   "metadata": {},
   "outputs": [
    {
     "data": {
      "text/html": [
       "<div>\n",
       "<style scoped>\n",
       "    .dataframe tbody tr th:only-of-type {\n",
       "        vertical-align: middle;\n",
       "    }\n",
       "\n",
       "    .dataframe tbody tr th {\n",
       "        vertical-align: top;\n",
       "    }\n",
       "\n",
       "    .dataframe thead th {\n",
       "        text-align: right;\n",
       "    }\n",
       "</style>\n",
       "<table border=\"1\" class=\"dataframe\">\n",
       "  <thead>\n",
       "    <tr style=\"text-align: right;\">\n",
       "      <th></th>\n",
       "      <th>user_id</th>\n",
       "      <th>listing_id</th>\n",
       "      <th>auditing_date</th>\n",
       "      <th>due_date</th>\n",
       "      <th>due_amt</th>\n",
       "      <th>term</th>\n",
       "      <th>rate</th>\n",
       "      <th>principal</th>\n",
       "      <th>reg_mon</th>\n",
       "      <th>gender</th>\n",
       "      <th>...</th>\n",
       "      <th>user_tag_em10</th>\n",
       "      <th>user_tag_em11</th>\n",
       "      <th>user_tag_em12</th>\n",
       "      <th>user_tag_em13</th>\n",
       "      <th>user_tag_em14</th>\n",
       "      <th>user_tag_em15</th>\n",
       "      <th>sum</th>\n",
       "      <th>behaviro_type1</th>\n",
       "      <th>behaviro_type2</th>\n",
       "      <th>behaviro_type3</th>\n",
       "    </tr>\n",
       "  </thead>\n",
       "  <tbody>\n",
       "    <tr>\n",
       "      <th>0</th>\n",
       "      <td>748147</td>\n",
       "      <td>3163926</td>\n",
       "      <td>2018-04-25</td>\n",
       "      <td>2018-05-25</td>\n",
       "      <td>72.1167</td>\n",
       "      <td>9</td>\n",
       "      <td>7.2</td>\n",
       "      <td>630</td>\n",
       "      <td>2017-12-01</td>\n",
       "      <td>0</td>\n",
       "      <td>...</td>\n",
       "      <td>0.226255</td>\n",
       "      <td>0.019565</td>\n",
       "      <td>0.103824</td>\n",
       "      <td>0.027327</td>\n",
       "      <td>-0.067397</td>\n",
       "      <td>-0.198968</td>\n",
       "      <td>86.0</td>\n",
       "      <td>34.0</td>\n",
       "      <td>3.0</td>\n",
       "      <td>49.0</td>\n",
       "    </tr>\n",
       "    <tr>\n",
       "      <th>1</th>\n",
       "      <td>672952</td>\n",
       "      <td>3698760</td>\n",
       "      <td>2018-06-09</td>\n",
       "      <td>2018-07-09</td>\n",
       "      <td>258.7045</td>\n",
       "      <td>9</td>\n",
       "      <td>7.2</td>\n",
       "      <td>2260</td>\n",
       "      <td>2017-09-01</td>\n",
       "      <td>0</td>\n",
       "      <td>...</td>\n",
       "      <td>0.120730</td>\n",
       "      <td>0.025317</td>\n",
       "      <td>0.054426</td>\n",
       "      <td>0.101891</td>\n",
       "      <td>-0.096519</td>\n",
       "      <td>0.092068</td>\n",
       "      <td>52.0</td>\n",
       "      <td>29.0</td>\n",
       "      <td>NaN</td>\n",
       "      <td>23.0</td>\n",
       "    </tr>\n",
       "    <tr>\n",
       "      <th>2</th>\n",
       "      <td>404196</td>\n",
       "      <td>2355665</td>\n",
       "      <td>2018-02-18</td>\n",
       "      <td>2018-03-18</td>\n",
       "      <td>307.9270</td>\n",
       "      <td>9</td>\n",
       "      <td>7.2</td>\n",
       "      <td>2690</td>\n",
       "      <td>2017-02-01</td>\n",
       "      <td>0</td>\n",
       "      <td>...</td>\n",
       "      <td>0.168494</td>\n",
       "      <td>0.042656</td>\n",
       "      <td>0.218435</td>\n",
       "      <td>0.075496</td>\n",
       "      <td>-0.146151</td>\n",
       "      <td>-0.023561</td>\n",
       "      <td>8.0</td>\n",
       "      <td>8.0</td>\n",
       "      <td>NaN</td>\n",
       "      <td>NaN</td>\n",
       "    </tr>\n",
       "    <tr>\n",
       "      <th>3</th>\n",
       "      <td>342769</td>\n",
       "      <td>1994522</td>\n",
       "      <td>2018-01-13</td>\n",
       "      <td>2018-02-13</td>\n",
       "      <td>252.9809</td>\n",
       "      <td>9</td>\n",
       "      <td>7.2</td>\n",
       "      <td>2210</td>\n",
       "      <td>2016-12-01</td>\n",
       "      <td>0</td>\n",
       "      <td>...</td>\n",
       "      <td>0.115832</td>\n",
       "      <td>0.117624</td>\n",
       "      <td>-0.009505</td>\n",
       "      <td>-0.049436</td>\n",
       "      <td>-0.123261</td>\n",
       "      <td>0.065597</td>\n",
       "      <td>30.0</td>\n",
       "      <td>30.0</td>\n",
       "      <td>NaN</td>\n",
       "      <td>NaN</td>\n",
       "    </tr>\n",
       "    <tr>\n",
       "      <th>4</th>\n",
       "      <td>828139</td>\n",
       "      <td>3602352</td>\n",
       "      <td>2018-06-01</td>\n",
       "      <td>2018-07-01</td>\n",
       "      <td>107.6503</td>\n",
       "      <td>6</td>\n",
       "      <td>8.6</td>\n",
       "      <td>630</td>\n",
       "      <td>2018-04-01</td>\n",
       "      <td>0</td>\n",
       "      <td>...</td>\n",
       "      <td>0.131122</td>\n",
       "      <td>0.084537</td>\n",
       "      <td>0.100530</td>\n",
       "      <td>0.010504</td>\n",
       "      <td>-0.063306</td>\n",
       "      <td>0.077973</td>\n",
       "      <td>37.0</td>\n",
       "      <td>12.0</td>\n",
       "      <td>1.0</td>\n",
       "      <td>24.0</td>\n",
       "    </tr>\n",
       "  </tbody>\n",
       "</table>\n",
       "<p>5 rows × 72 columns</p>\n",
       "</div>"
      ],
      "text/plain": [
       "   user_id  listing_id auditing_date    due_date   due_amt  term  rate  \\\n",
       "0   748147     3163926    2018-04-25  2018-05-25   72.1167     9   7.2   \n",
       "1   672952     3698760    2018-06-09  2018-07-09  258.7045     9   7.2   \n",
       "2   404196     2355665    2018-02-18  2018-03-18  307.9270     9   7.2   \n",
       "3   342769     1994522    2018-01-13  2018-02-13  252.9809     9   7.2   \n",
       "4   828139     3602352    2018-06-01  2018-07-01  107.6503     6   8.6   \n",
       "\n",
       "   principal     reg_mon  gender  ...  user_tag_em10  user_tag_em11  \\\n",
       "0        630  2017-12-01       0  ...       0.226255       0.019565   \n",
       "1       2260  2017-09-01       0  ...       0.120730       0.025317   \n",
       "2       2690  2017-02-01       0  ...       0.168494       0.042656   \n",
       "3       2210  2016-12-01       0  ...       0.115832       0.117624   \n",
       "4        630  2018-04-01       0  ...       0.131122       0.084537   \n",
       "\n",
       "   user_tag_em12  user_tag_em13 user_tag_em14 user_tag_em15   sum  \\\n",
       "0       0.103824       0.027327     -0.067397     -0.198968  86.0   \n",
       "1       0.054426       0.101891     -0.096519      0.092068  52.0   \n",
       "2       0.218435       0.075496     -0.146151     -0.023561   8.0   \n",
       "3      -0.009505      -0.049436     -0.123261      0.065597  30.0   \n",
       "4       0.100530       0.010504     -0.063306      0.077973  37.0   \n",
       "\n",
       "   behaviro_type1  behaviro_type2  behaviro_type3  \n",
       "0            34.0             3.0            49.0  \n",
       "1            29.0             NaN            23.0  \n",
       "2             8.0             NaN             NaN  \n",
       "3            30.0             NaN             NaN  \n",
       "4            12.0             1.0            24.0  \n",
       "\n",
       "[5 rows x 72 columns]"
      ]
     },
     "execution_count": 14,
     "metadata": {},
     "output_type": "execute_result"
    }
   ],
   "source": [
    "train.head()"
   ]
  },
  {
   "cell_type": "code",
   "execution_count": 15,
   "metadata": {},
   "outputs": [
    {
     "name": "stdout",
     "output_type": "stream",
     "text": [
      "<class 'pandas.core.frame.DataFrame'>\n",
      "Int64Index: 1000000 entries, 0 to 999999\n",
      "Data columns (total 72 columns):\n",
      "user_id                       1000000 non-null int64\n",
      "listing_id                    1000000 non-null int64\n",
      "auditing_date                 1000000 non-null object\n",
      "due_date                      1000000 non-null object\n",
      "due_amt                       1000000 non-null float64\n",
      "term                          1000000 non-null int64\n",
      "rate                          1000000 non-null float64\n",
      "principal                     1000000 non-null int64\n",
      "reg_mon                       1000000 non-null object\n",
      "gender                        1000000 non-null int64\n",
      "age                           1000000 non-null int64\n",
      "cell_province                 1000000 non-null int64\n",
      "id_province                   1000000 non-null int64\n",
      "id_city                       1000000 non-null int64\n",
      "info_insert_date              1000000 non-null object\n",
      "taglist                       574469 non-null object\n",
      "tag_insert_date_x             574469 non-null object\n",
      "repay_mean                    884623 non-null float64\n",
      "early_repay_days_max          884623 non-null float64\n",
      "early_repay_days_median       884623 non-null float64\n",
      "early_repay_days_sum          884623 non-null float64\n",
      "early_repay_days_mean         884623 non-null float64\n",
      "early_repay_days_std          654532 non-null float64\n",
      "due_amt_max                   884623 non-null float64\n",
      "due_amt_min                   884623 non-null float64\n",
      "due_amt_median                884623 non-null float64\n",
      "due_amt_mean                  884623 non-null float64\n",
      "due_amt_sum                   884623 non-null float64\n",
      "due_amt_std                   654532 non-null float64\n",
      "due_amt_skew                  506186 non-null float64\n",
      "due_amt_kurt                  884623 non-null float64\n",
      "due_amt_ptp                   884623 non-null float64\n",
      "due_amt_per_days              1000000 non-null float64\n",
      "auditing_date_month           1000000 non-null int64\n",
      "auditing_date_day             1000000 non-null int64\n",
      "auditing_date_dayofweek       1000000 non-null int64\n",
      "due_date_month                1000000 non-null int64\n",
      "due_date_day                  1000000 non-null int64\n",
      "due_date_dayofweek            1000000 non-null int64\n",
      "reg_mon_year                  1000000 non-null int64\n",
      "reg_mon_month                 1000000 non-null int64\n",
      "info_insert_date_year         1000000 non-null int64\n",
      "info_insert_date_month        1000000 non-null int64\n",
      "info_insert_date_day          1000000 non-null int64\n",
      "info_insert_date_dayofweek    1000000 non-null int64\n",
      "tag_insert_date_year          574469 non-null float64\n",
      "tag_insert_date_month         574469 non-null float64\n",
      "tag_insert_date_day           574469 non-null float64\n",
      "tag_insert_date_dayofweek     574469 non-null float64\n",
      "clf_label                     1000000 non-null int64\n",
      "amt_labels                    1000000 non-null float64\n",
      "tag_insert_date_y             574469 non-null datetime64[ns]\n",
      "user_tag_em0                  574469 non-null float64\n",
      "user_tag_em1                  574469 non-null float64\n",
      "user_tag_em2                  574469 non-null float64\n",
      "user_tag_em3                  574469 non-null float64\n",
      "user_tag_em4                  574469 non-null float64\n",
      "user_tag_em5                  574469 non-null float64\n",
      "user_tag_em6                  574469 non-null float64\n",
      "user_tag_em7                  574469 non-null float64\n",
      "user_tag_em8                  574469 non-null float64\n",
      "user_tag_em9                  574469 non-null float64\n",
      "user_tag_em10                 574469 non-null float64\n",
      "user_tag_em11                 574469 non-null float64\n",
      "user_tag_em12                 574469 non-null float64\n",
      "user_tag_em13                 574469 non-null float64\n",
      "user_tag_em14                 574469 non-null float64\n",
      "user_tag_em15                 574469 non-null float64\n",
      "sum                           993602 non-null float64\n",
      "behaviro_type1                993564 non-null float64\n",
      "behaviro_type2                441811 non-null float64\n",
      "behaviro_type3                738394 non-null float64\n",
      "dtypes: datetime64[ns](1), float64(43), int64(22), object(6)\n",
      "memory usage: 556.9+ MB\n"
     ]
    }
   ],
   "source": [
    "train.info()"
   ]
  },
  {
   "cell_type": "code",
   "execution_count": 16,
   "metadata": {},
   "outputs": [],
   "source": [
    "# date_train = train[date_cols]\n",
    "tag_train = train['taglist']\n",
    "\n",
    "ID = ['user_id', 'listing_id']\n",
    "id_train = train[ID]\n",
    "y_clf_train = train['clf_label']\n",
    "y_clf_train = y_clf_train.replace(-1, 32)\n",
    "y_amt_train = train['amt_labels']\n",
    "X_train = train.drop(['auditing_date', 'due_date', 'reg_mon', 'info_insert_date', 'tag_insert_date_x', 'tag_insert_date_y', 'taglist', 'clf_label', 'amt_labels'], axis=1)\n",
    "\n",
    "#保存特征名字以备后用\n",
    "feat_names = X_train.columns\n",
    "\n",
    "#sklearn的学习器大多之一稀疏数据输入，模型训练会快很多\n",
    "#查看一个学习器是否支持稀疏数据，可以看fit函数是否支持: X: {array-like, sparse matrix}.\n",
    "#可自行用timeit比较稠密数据和稀疏数据的训练时间\n",
    "from scipy.sparse import csr_matrix\n",
    "X_train = csr_matrix(X_train)"
   ]
  },
  {
   "cell_type": "markdown",
   "metadata": {},
   "source": [
    "## LGB模型训练"
   ]
  },
  {
   "cell_type": "code",
   "execution_count": 17,
   "metadata": {},
   "outputs": [],
   "source": [
    "MAX_ROUNDS = 10000"
   ]
  },
  {
   "cell_type": "code",
   "execution_count": 18,
   "metadata": {},
   "outputs": [],
   "source": [
    "# prepare cross validation\n",
    "from sklearn.model_selection import StratifiedKFold\n",
    "\n",
    "kfold = StratifiedKFold(n_splits=5, shuffle=True, random_state=3)"
   ]
  },
  {
   "cell_type": "markdown",
   "metadata": {},
   "source": [
    "### 1.n_estimators"
   ]
  },
  {
   "cell_type": "code",
   "execution_count": 21,
   "metadata": {},
   "outputs": [],
   "source": [
    "#直接调用lightgbm内嵌的交叉验证(cv)，可对连续的n_estimators参数进行快速交叉验证\n",
    "#而GridSearchCV只能对有限个参数进行交叉验证，且速度相对较慢\n",
    "def get_n_estimators(params , X_train , y_train , early_stopping_rounds=10):\n",
    "    lgbm_params = params.copy()\n",
    "#    lgbm_params['num_class'] = 2\n",
    "     \n",
    "    lgbmtrain = lgbm.Dataset(X_train , y_train )\n",
    "     \n",
    "    #num_boost_round为弱分类器数目，下面的代码参数里因为已经设置了early_stopping_rounds\n",
    "    #即性能未提升的次数超过过早停止设置的数值，则停止训练\n",
    "    cv_result = lgbm.cv(lgbm_params , lgbmtrain , num_boost_round=MAX_ROUNDS , nfold=5,  metrics='multi_logloss' , early_stopping_rounds=early_stopping_rounds,seed=3 )\n",
    "     \n",
    "    print('best n_estimators:' , len(cv_result['multi_logloss-mean']))\n",
    "    print('best cv score:' , cv_result['multi_logloss-mean'][-1])\n",
    "     \n",
    "    return len(cv_result['multi_logloss-mean'])"
   ]
  },
  {
   "cell_type": "code",
   "execution_count": 22,
   "metadata": {},
   "outputs": [
    {
     "name": "stdout",
     "output_type": "stream",
     "text": [
      "best n_estimators: 208\n",
      "best cv score: 2.046832806596357\n"
     ]
    }
   ],
   "source": [
    "params = {'boosting_type': 'gbdt',\n",
    "          'objective': 'multiclass',\n",
    "          'num_class': 33,\n",
    "          'num_leaves': 30,\n",
    "          'max_depth': 9,\n",
    "          'learning_rate': 0.1,\n",
    "          'subsample': 1.0,\n",
    "          'bagging_freq': 1,\n",
    "          'colsample_bytree': 0.7,\n",
    "          'lambda_l1': 1,\n",
    "          'lambda_l2': 1,\n",
    "          'n_jobs': 6,\n",
    "          'max_bin': 127 #2^6,原始特征为整数，很少超过100\n",
    "         }\n",
    "\n",
    "n_estimators_1 = get_n_estimators(params , X_train , y_clf_train)"
   ]
  },
  {
   "cell_type": "markdown",
   "metadata": {},
   "source": [
    "### 2.max_depth"
   ]
  },
  {
   "cell_type": "code",
   "execution_count": 11,
   "metadata": {},
   "outputs": [
    {
     "name": "stdout",
     "output_type": "stream",
     "text": [
      "Fitting 5 folds for each of 5 candidates, totalling 25 fits\n"
     ]
    },
    {
     "name": "stderr",
     "output_type": "stream",
     "text": [
      "[Parallel(n_jobs=4)]: Using backend LokyBackend with 4 concurrent workers.\n",
      "[Parallel(n_jobs=4)]: Done  25 out of  25 | elapsed: 50.5min finished\n"
     ]
    },
    {
     "data": {
      "text/plain": [
       "GridSearchCV(cv=StratifiedKFold(n_splits=5, random_state=3, shuffle=True),\n",
       "             error_score='raise-deprecating',\n",
       "             estimator=LGBMClassifier(bagging_freq=1, boosting_type='gbdt',\n",
       "                                      class_weight=None, colsample_bytree=0.7,\n",
       "                                      importance_type='split', lambda_l1=0.4,\n",
       "                                      lambda_l2=0.5, learning_rate=0.1,\n",
       "                                      max_bin=127, max_depth=-1,\n",
       "                                      min_child_samples=20,\n",
       "                                      min_child_weight=0.001,\n",
       "                                      min_spl...n=0.0, n_estimators=228,\n",
       "                                      n_jobs=4, num_class=33, num_leaves=20,\n",
       "                                      objective='multiclass', random_state=None,\n",
       "                                      reg_alpha=0.0, reg_lambda=0.0,\n",
       "                                      silent=False, subsample=0.7,\n",
       "                                      subsample_for_bin=200000,\n",
       "                                      subsample_freq=0),\n",
       "             iid='warn', n_jobs=4, param_grid={'max_depth': range(7, 12)},\n",
       "             pre_dispatch='2*n_jobs', refit=False, return_train_score=False,\n",
       "             scoring='neg_log_loss', verbose=2)"
      ]
     },
     "execution_count": 11,
     "metadata": {},
     "output_type": "execute_result"
    }
   ],
   "source": [
    "params = {'boosting_type': 'gbdt',\n",
    "          'objective': 'multiclass',\n",
    "          'num_class': 33,\n",
    "          'learning_rate': 0.1,\n",
    "           'n_estimators':n_estimators_1,\n",
    "          'num_leaves': 20,\n",
    "          'subsample': 0.7,\n",
    "          'bagging_freq': 1,\n",
    "          'colsample_bytree': 0.7,\n",
    "          'lambda_l1': 0.4,\n",
    "          'lambda_l2': 0.5,\n",
    "          'n_jobs': 4,\n",
    "          'max_bin': 127 #2^6,原始特征为整数，很少超过100\n",
    "#           'device': 'gpu',\n",
    "#           'gpu_platform_id': 0,\n",
    "#           'gpu_device_id': 0\n",
    "         }\n",
    "\n",
    "lg = LGBMClassifier(silent=False,  **params)\n",
    "\n",
    "max_depth_s = range(7,12) \n",
    "tuned_parameters = dict( max_depth = max_depth_s)\n",
    "\n",
    "grid_search = GridSearchCV(lg, n_jobs=4, param_grid=tuned_parameters, cv = kfold, scoring=\"neg_log_loss\", verbose=2, refit = False)\n",
    "grid_search.fit(X_train , y_clf_train)"
   ]
  },
  {
   "cell_type": "code",
   "execution_count": 12,
   "metadata": {},
   "outputs": [
    {
     "name": "stdout",
     "output_type": "stream",
     "text": [
      "2.0506604363226173\n",
      "{'max_depth': 9}\n"
     ]
    }
   ],
   "source": [
    "# examine the best model\n",
    "print(-grid_search.best_score_)\n",
    "print(grid_search.best_params_)"
   ]
  },
  {
   "cell_type": "code",
   "execution_count": 13,
   "metadata": {},
   "outputs": [
    {
     "data": {
      "image/png": "[encoded data removed]",
      "text/plain": [
       "<Figure size 432x288 with 1 Axes>"
      ]
     },
     "metadata": {
      "needs_background": "light"
     },
     "output_type": "display_data"
    }
   ],
   "source": [
    "# plot CV误差曲线\n",
    "test_means = grid_search.cv_results_[ 'mean_test_score' ]\n",
    "test_stds = grid_search.cv_results_[ 'std_test_score' ]\n",
    "# train_means = grid_search.cv_results_[ 'mean_train_score' ]\n",
    "# train_stds = grid_search.cv_results_[ 'std_train_score' ]\n",
    "\n",
    "x_axis = max_depth_s\n",
    "\n",
    "plt.plot(x_axis, -test_means)\n",
    "# plt.errorbar(x_axis, -test_means, yerr=test_stds ,label = ' Test')\n",
    "# plt.errorbar(x_axis, -train_means, yerr=train_stds,label =  ' Train')\n",
    "\n",
    "plt.show()"
   ]
  },
  {
   "cell_type": "code",
   "execution_count": 14,
   "metadata": {},
   "outputs": [],
   "source": [
    "max_depth_1 = list(grid_search.best_params_.values())[0]"
   ]
  },
  {
   "cell_type": "markdown",
   "metadata": {},
   "source": [
    "### 3.num_leaves"
   ]
  },
  {
   "cell_type": "code",
   "execution_count": 15,
   "metadata": {},
   "outputs": [
    {
     "name": "stdout",
     "output_type": "stream",
     "text": [
      "Fitting 5 folds for each of 5 candidates, totalling 25 fits\n"
     ]
    },
    {
     "name": "stderr",
     "output_type": "stream",
     "text": [
      "[Parallel(n_jobs=4)]: Using backend LokyBackend with 4 concurrent workers.\n",
      "[Parallel(n_jobs=4)]: Done  25 out of  25 | elapsed: 64.1min finished\n"
     ]
    },
    {
     "data": {
      "text/plain": [
       "GridSearchCV(cv=StratifiedKFold(n_splits=5, random_state=3, shuffle=True),\n",
       "             error_score='raise-deprecating',\n",
       "             estimator=LGBMClassifier(bagging_freq=1, boosting_type='gbdt',\n",
       "                                      class_weight=None, colsample_bytree=0.7,\n",
       "                                      importance_type='split', lambda_l1=0.4,\n",
       "                                      lambda_l2=0.5, learning_rate=0.1,\n",
       "                                      max_bin=127, max_depth=9,\n",
       "                                      min_child_samples=20,\n",
       "                                      min_child_weight=0.001,\n",
       "                                      min_spli..., n_estimators=228,\n",
       "                                      n_jobs=4, num_class=33, num_leaves=31,\n",
       "                                      objective='multiclass', random_state=None,\n",
       "                                      reg_alpha=0.0, reg_lambda=0.0,\n",
       "                                      silent=False, subsample=0.7,\n",
       "                                      subsample_for_bin=200000,\n",
       "                                      subsample_freq=0),\n",
       "             iid='warn', n_jobs=4, param_grid={'num_leaves': range(20, 70, 10)},\n",
       "             pre_dispatch='2*n_jobs', refit=False, return_train_score=False,\n",
       "             scoring='neg_log_loss', verbose=2)"
      ]
     },
     "execution_count": 15,
     "metadata": {},
     "output_type": "execute_result"
    }
   ],
   "source": [
    "params = {'boosting_type': 'gbdt',\n",
    "          'objective': 'multiclass',\n",
    "          'num_class': 33,\n",
    "          'learning_rate': 0.1,\n",
    "           'n_estimators':n_estimators_1,\n",
    "          'max_depth': max_depth_1,\n",
    "          'subsample': 0.7,\n",
    "          'bagging_freq': 1,\n",
    "          'colsample_bytree': 0.7,\n",
    "          'lambda_l1': 0.4,\n",
    "          'lambda_l2': 0.5,\n",
    "          'n_jobs': 4,\n",
    "          'max_bin': 127 #2^6,原始特征为整数，很少超过100\n",
    "         }\n",
    "lg = LGBMClassifier(silent=False,  **params)\n",
    "\n",
    "num_leaves_s = range(20,70,10) \n",
    "tuned_parameters = dict( num_leaves = num_leaves_s)\n",
    "\n",
    "grid_search = GridSearchCV(lg, n_jobs=4, param_grid=tuned_parameters, cv = kfold, scoring=\"neg_log_loss\", verbose=2, refit = False)\n",
    "grid_search.fit(X_train , y_clf_train)"
   ]
  },
  {
   "cell_type": "code",
   "execution_count": 16,
   "metadata": {},
   "outputs": [
    {
     "name": "stdout",
     "output_type": "stream",
     "text": [
      "2.050259519517991\n",
      "{'num_leaves': 30}\n"
     ]
    }
   ],
   "source": [
    "# examine the best model\n",
    "print(-grid_search.best_score_)\n",
    "print(grid_search.best_params_)"
   ]
  },
  {
   "cell_type": "code",
   "execution_count": 17,
   "metadata": {},
   "outputs": [
    {
     "data": {
      "image/png": "[encoded data removed]",
      "text/plain": [
       "<Figure size 432x288 with 1 Axes>"
      ]
     },
     "metadata": {
      "needs_background": "light"
     },
     "output_type": "display_data"
    }
   ],
   "source": [
    "# plot CV误差曲线\n",
    "test_means = grid_search.cv_results_[ 'mean_test_score' ]\n",
    "test_stds = grid_search.cv_results_[ 'std_test_score' ]\n",
    "# train_means = grid_search.cv_results_[ 'mean_train_score' ]\n",
    "# train_stds = grid_search.cv_results_[ 'std_train_score' ]\n",
    "\n",
    "x_axis = num_leaves_s\n",
    "\n",
    "plt.plot(x_axis, -test_means)\n",
    "#plt.errorbar(x_axis, -test_scores, yerr=test_stds ,label = ' Test')\n",
    "#plt.errorbar(x_axis, -train_scores, yerr=train_stds,label =  +' Train')\n",
    "\n",
    "plt.show()"
   ]
  },
  {
   "cell_type": "code",
   "execution_count": 18,
   "metadata": {},
   "outputs": [],
   "source": [
    "num_leaves_1 = list(grid_search.best_params_.values())[0]"
   ]
  },
  {
   "cell_type": "markdown",
   "metadata": {},
   "source": [
    "### 4.min_child_samples"
   ]
  },
  {
   "cell_type": "code",
   "execution_count": 19,
   "metadata": {},
   "outputs": [
    {
     "name": "stdout",
     "output_type": "stream",
     "text": [
      "Fitting 5 folds for each of 5 candidates, totalling 25 fits\n"
     ]
    },
    {
     "name": "stderr",
     "output_type": "stream",
     "text": [
      "[Parallel(n_jobs=4)]: Using backend LokyBackend with 4 concurrent workers.\n",
      "[Parallel(n_jobs=4)]: Done  25 out of  25 | elapsed: 61.2min finished\n"
     ]
    },
    {
     "data": {
      "text/plain": [
       "GridSearchCV(cv=StratifiedKFold(n_splits=5, random_state=3, shuffle=True),\n",
       "             error_score='raise-deprecating',\n",
       "             estimator=LGBMClassifier(bagging_freq=1, boosting_type='gbdt',\n",
       "                                      class_weight=None, colsample_bytree=0.7,\n",
       "                                      importance_type='split', lambda_l1=0.4,\n",
       "                                      lambda_l2=0.5, learning_rate=0.1,\n",
       "                                      max_bin=127, max_depth=9,\n",
       "                                      min_child_samples=20,\n",
       "                                      min_child_weight=0.001,\n",
       "                                      min_spli...ators=228,\n",
       "                                      n_jobs=4, num_class=33, num_leaves=30,\n",
       "                                      objective='multiclass', random_state=None,\n",
       "                                      reg_alpha=0.0, reg_lambda=0.0,\n",
       "                                      silent=False, subsample=0.7,\n",
       "                                      subsample_for_bin=200000,\n",
       "                                      subsample_freq=0),\n",
       "             iid='warn', n_jobs=4,\n",
       "             param_grid={'min_child_samples': range(60, 110, 10)},\n",
       "             pre_dispatch='2*n_jobs', refit=False, return_train_score=False,\n",
       "             scoring='neg_log_loss', verbose=2)"
      ]
     },
     "execution_count": 19,
     "metadata": {},
     "output_type": "execute_result"
    }
   ],
   "source": [
    "params = {'boosting_type': 'gbdt',\n",
    "          'objective': 'multiclass',\n",
    "          'num_class': 33,\n",
    "          'learning_rate': 0.1,\n",
    "           'n_estimators':n_estimators_1,\n",
    "          'max_depth': max_depth_1,\n",
    "          'num_leaves':num_leaves_1,\n",
    "          'subsample': 0.7,\n",
    "          'bagging_freq': 1,\n",
    "          'colsample_bytree': 0.7,\n",
    "          'lambda_l1': 0.4,\n",
    "          'lambda_l2': 0.5,\n",
    "          'n_jobs': 4,\n",
    "          'max_bin': 127 #2^6,原始特征为整数，很少超过100\n",
    "         }\n",
    "lg = LGBMClassifier(silent=False,  **params)\n",
    "\n",
    "min_child_samples_s = range(60,110,10) \n",
    "tuned_parameters = dict( min_child_samples = min_child_samples_s)\n",
    "\n",
    "grid_search = GridSearchCV(lg, n_jobs=4,  param_grid=tuned_parameters, cv = kfold, scoring=\"neg_log_loss\", verbose=2, refit = False)\n",
    "grid_search.fit(X_train , y_clf_train)"
   ]
  },
  {
   "cell_type": "code",
   "execution_count": 20,
   "metadata": {},
   "outputs": [
    {
     "name": "stdout",
     "output_type": "stream",
     "text": [
      "2.050078729497037\n",
      "{'min_child_samples': 60}\n"
     ]
    }
   ],
   "source": [
    "# examine the best model\n",
    "print(-grid_search.best_score_)\n",
    "print(grid_search.best_params_)"
   ]
  },
  {
   "cell_type": "code",
   "execution_count": 21,
   "metadata": {},
   "outputs": [
    {
     "data": {
      "image/png": "[encoded data removed]",
      "text/plain": [
       "<Figure size 432x288 with 1 Axes>"
      ]
     },
     "metadata": {
      "needs_background": "light"
     },
     "output_type": "display_data"
    }
   ],
   "source": [
    "# plot CV误差曲线\n",
    "test_means = grid_search.cv_results_[ 'mean_test_score' ]\n",
    "test_stds = grid_search.cv_results_[ 'std_test_score' ]\n",
    "# train_means = grid_search.cv_results_[ 'mean_train_score' ]\n",
    "# train_stds = grid_search.cv_results_[ 'std_train_score' ]\n",
    "\n",
    "x_axis = min_child_samples_s\n",
    "\n",
    "plt.plot(x_axis, -test_means)\n",
    "#plt.errorbar(x_axis, -test_scores, yerr=test_stds ,label = ' Test')\n",
    "#plt.errorbar(x_axis, -train_scores, yerr=train_stds,label =  +' Train')\n",
    "\n",
    "plt.show()"
   ]
  },
  {
   "cell_type": "code",
   "execution_count": 22,
   "metadata": {},
   "outputs": [],
   "source": [
    "min_child_samples_1 = list(grid_search.best_params_.values())[0]"
   ]
  },
  {
   "cell_type": "markdown",
   "metadata": {},
   "source": [
    "### 5.subsample"
   ]
  },
  {
   "cell_type": "code",
   "execution_count": 23,
   "metadata": {},
   "outputs": [
    {
     "name": "stdout",
     "output_type": "stream",
     "text": [
      "Fitting 5 folds for each of 6 candidates, totalling 30 fits\n"
     ]
    },
    {
     "name": "stderr",
     "output_type": "stream",
     "text": [
      "[Parallel(n_jobs=4)]: Using backend LokyBackend with 4 concurrent workers.\n",
      "[Parallel(n_jobs=4)]: Done  30 out of  30 | elapsed: 70.4min finished\n"
     ]
    },
    {
     "data": {
      "text/plain": [
       "GridSearchCV(cv=StratifiedKFold(n_splits=5, random_state=3, shuffle=True),\n",
       "             error_score='raise-deprecating',\n",
       "             estimator=LGBMClassifier(bagging_freq=1, boosting_type='gbdt',\n",
       "                                      class_weight=None, colsample_bytree=0.7,\n",
       "                                      importance_type='split', lambda_l1=0.4,\n",
       "                                      lambda_l2=0.5, learning_rate=0.1,\n",
       "                                      max_bin=127, max_depth=9,\n",
       "                                      min_child_samples=60,\n",
       "                                      min_child_weight=0.001,\n",
       "                                      min_spli...tors=228,\n",
       "                                      n_jobs=4, num_class=33, num_leaves=30,\n",
       "                                      objective='multiclass', random_state=None,\n",
       "                                      reg_alpha=0.0, reg_lambda=0.0,\n",
       "                                      silent=False, subsample=1.0,\n",
       "                                      subsample_for_bin=200000,\n",
       "                                      subsample_freq=0),\n",
       "             iid='warn', n_jobs=4,\n",
       "             param_grid={'subsample': [0.5, 0.6, 0.7, 0.8, 0.9, 1.0]},\n",
       "             pre_dispatch='2*n_jobs', refit=False, return_train_score=False,\n",
       "             scoring='neg_log_loss', verbose=2)"
      ]
     },
     "execution_count": 23,
     "metadata": {},
     "output_type": "execute_result"
    }
   ],
   "source": [
    "params = {'boosting_type': 'gbdt',\n",
    "          'objective': 'multiclass',\n",
    "          'num_class': 33,\n",
    "          'learning_rate': 0.1,\n",
    "           'n_estimators':n_estimators_1,\n",
    "          'max_depth': max_depth_1,\n",
    "          'num_leaves':num_leaves_1,\n",
    "          'min_child_samples':min_child_samples_1,\n",
    "          'bagging_freq': 1,\n",
    "          'colsample_bytree': 0.7,\n",
    "          'lambda_l1': 0.4,\n",
    "          'lambda_l2': 0.5,\n",
    "          'n_jobs': 4,\n",
    "          'max_bin': 127 #2^6,原始特征为整数，很少超过100\n",
    "         }\n",
    "lg = LGBMClassifier(silent=False,  **params)\n",
    "\n",
    "subsample_s = [i/10.0 for i in range(5,11)]\n",
    "tuned_parameters = dict( subsample = subsample_s)\n",
    "\n",
    "grid_search = GridSearchCV(lg, n_jobs=4,  param_grid=tuned_parameters, cv = kfold, scoring=\"neg_log_loss\", verbose=2, refit = False)\n",
    "grid_search.fit(X_train , y_clf_train)"
   ]
  },
  {
   "cell_type": "code",
   "execution_count": 24,
   "metadata": {},
   "outputs": [
    {
     "name": "stdout",
     "output_type": "stream",
     "text": [
      "2.048941460943096\n",
      "{'subsample': 1.0}\n"
     ]
    }
   ],
   "source": [
    "# examine the best model\n",
    "print(-grid_search.best_score_)\n",
    "print(grid_search.best_params_)"
   ]
  },
  {
   "cell_type": "code",
   "execution_count": 25,
   "metadata": {},
   "outputs": [
    {
     "data": {
      "image/png": "[encoded data removed]",
      "text/plain": [
       "<Figure size 432x288 with 1 Axes>"
      ]
     },
     "metadata": {
      "needs_background": "light"
     },
     "output_type": "display_data"
    }
   ],
   "source": [
    "# plot CV误差曲线\n",
    "test_means = grid_search.cv_results_[ 'mean_test_score' ]\n",
    "test_stds = grid_search.cv_results_[ 'std_test_score' ]\n",
    "# train_means = grid_search.cv_results_[ 'mean_train_score' ]\n",
    "# train_stds = grid_search.cv_results_[ 'std_train_score' ]\n",
    "\n",
    "x_axis = subsample_s\n",
    "\n",
    "plt.plot(x_axis, -test_means)\n",
    "#plt.errorbar(x_axis, -test_scores, yerr=test_stds ,label = ' Test')\n",
    "#plt.errorbar(x_axis, -train_scores, yerr=train_stds,label =  +' Train')\n",
    "\n",
    "plt.show()"
   ]
  },
  {
   "cell_type": "code",
   "execution_count": 26,
   "metadata": {},
   "outputs": [],
   "source": [
    "subsample_1 = list(grid_search.best_params_.values())[0]"
   ]
  },
  {
   "cell_type": "markdown",
   "metadata": {},
   "source": [
    "### 6.bagging_freq"
   ]
  },
  {
   "cell_type": "code",
   "execution_count": 28,
   "metadata": {},
   "outputs": [
    {
     "name": "stdout",
     "output_type": "stream",
     "text": [
      "Fitting 5 folds for each of 4 candidates, totalling 20 fits\n"
     ]
    },
    {
     "name": "stderr",
     "output_type": "stream",
     "text": [
      "[Parallel(n_jobs=4)]: Using backend LokyBackend with 4 concurrent workers.\n",
      "[Parallel(n_jobs=4)]: Done  20 out of  20 | elapsed: 46.8min finished\n"
     ]
    },
    {
     "data": {
      "text/plain": [
       "GridSearchCV(cv=StratifiedKFold(n_splits=5, random_state=3, shuffle=True),\n",
       "             error_score='raise-deprecating',\n",
       "             estimator=LGBMClassifier(boosting_type='gbdt', class_weight=None,\n",
       "                                      colsample_bytree=0.7,\n",
       "                                      importance_type='split', lambda_l1=0.4,\n",
       "                                      lambda_l2=0.5, learning_rate=0.1,\n",
       "                                      max_bin=127, max_depth=9,\n",
       "                                      min_child_samples=60,\n",
       "                                      min_child_weight=0.001,\n",
       "                                      min_split_gain=0.0, n_estimators=228,\n",
       "                                      n_jobs=4, num_class=33, num_leaves=30,\n",
       "                                      objective='multiclass', random_state=None,\n",
       "                                      reg_alpha=0.0, reg_lambda=0.0,\n",
       "                                      silent=False, subsample=1.0,\n",
       "                                      subsample_for_bin=200000,\n",
       "                                      subsample_freq=0),\n",
       "             iid='warn', n_jobs=4, param_grid={'bagging_freq': range(1, 5)},\n",
       "             pre_dispatch='2*n_jobs', refit=False, return_train_score=False,\n",
       "             scoring='neg_log_loss', verbose=2)"
      ]
     },
     "execution_count": 28,
     "metadata": {},
     "output_type": "execute_result"
    }
   ],
   "source": [
    "params = {'boosting_type': 'gbdt',\n",
    "          'objective': 'multiclass',\n",
    "          'num_class': 33,\n",
    "          'learning_rate': 0.1,\n",
    "           'n_estimators':n_estimators_1,\n",
    "          'max_depth': max_depth_1,\n",
    "          'num_leaves':num_leaves_1,\n",
    "          'min_child_samples':min_child_samples_1,\n",
    "          'subsample': subsample_1,\n",
    "          'colsample_bytree': 0.7,\n",
    "          'lambda_l1': 0.4,\n",
    "          'lambda_l2': 0.5,\n",
    "          'n_jobs': 4,\n",
    "          'max_bin': 127 #2^6,原始特征为整数，很少超过100\n",
    "         }\n",
    "lg = LGBMClassifier(silent=False,  **params)\n",
    "\n",
    "bagging_freq_s = range(1,5)\n",
    "tuned_parameters = dict( bagging_freq = bagging_freq_s)\n",
    "\n",
    "grid_search = GridSearchCV(lg, n_jobs=4,  param_grid=tuned_parameters, cv = kfold, scoring=\"neg_log_loss\", verbose=2, refit = False)\n",
    "grid_search.fit(X_train , y_clf_train)"
   ]
  },
  {
   "cell_type": "code",
   "execution_count": 29,
   "metadata": {},
   "outputs": [
    {
     "name": "stdout",
     "output_type": "stream",
     "text": [
      "2.048941460943096\n",
      "{'bagging_freq': 1}\n"
     ]
    }
   ],
   "source": [
    "# examine the best model\n",
    "print(-grid_search.best_score_)\n",
    "print(grid_search.best_params_)"
   ]
  },
  {
   "cell_type": "code",
   "execution_count": 30,
   "metadata": {},
   "outputs": [
    {
     "data": {
      "image/png": "[encoded data removed]",
      "text/plain": [
       "<Figure size 432x288 with 1 Axes>"
      ]
     },
     "metadata": {
      "needs_background": "light"
     },
     "output_type": "display_data"
    }
   ],
   "source": [
    "# plot CV误差曲线\n",
    "test_means = grid_search.cv_results_[ 'mean_test_score' ]\n",
    "test_stds = grid_search.cv_results_[ 'std_test_score' ]\n",
    "# train_means = grid_search.cv_results_[ 'mean_train_score' ]\n",
    "# train_stds = grid_search.cv_results_[ 'std_train_score' ]\n",
    "\n",
    "x_axis = bagging_freq_s\n",
    "\n",
    "plt.plot(x_axis, -test_means)\n",
    "#plt.errorbar(x_axis, -test_scores, yerr=test_stds ,label = ' Test')\n",
    "#plt.errorbar(x_axis, -train_scores, yerr=train_stds,label =  +' Train')\n",
    "\n",
    "plt.show()"
   ]
  },
  {
   "cell_type": "code",
   "execution_count": 31,
   "metadata": {},
   "outputs": [],
   "source": [
    "bagging_freq_1 = list(grid_search.best_params_.values())[0]"
   ]
  },
  {
   "cell_type": "markdown",
   "metadata": {},
   "source": [
    "### 7.colsample_bytree"
   ]
  },
  {
   "cell_type": "code",
   "execution_count": 32,
   "metadata": {},
   "outputs": [
    {
     "name": "stdout",
     "output_type": "stream",
     "text": [
      "Fitting 5 folds for each of 6 candidates, totalling 30 fits\n"
     ]
    },
    {
     "name": "stderr",
     "output_type": "stream",
     "text": [
      "[Parallel(n_jobs=4)]: Using backend LokyBackend with 4 concurrent workers.\n",
      "[Parallel(n_jobs=4)]: Done  30 out of  30 | elapsed: 95.7min finished\n"
     ]
    },
    {
     "data": {
      "text/plain": [
       "GridSearchCV(cv=StratifiedKFold(n_splits=5, random_state=3, shuffle=True),\n",
       "             error_score='raise-deprecating',\n",
       "             estimator=LGBMClassifier(bagging_freq=1, boosting_type='gbdt',\n",
       "                                      class_weight=None, colsample_bytree=1.0,\n",
       "                                      importance_type='split', lambda_l1=0.4,\n",
       "                                      lambda_l2=0.5, learning_rate=0.1,\n",
       "                                      max_bin=127, max_depth=9,\n",
       "                                      min_child_samples=60,\n",
       "                                      min_child_weight=0.001,\n",
       "                                      min_spli...8,\n",
       "                                      n_jobs=4, num_class=33, num_leaves=30,\n",
       "                                      objective='multiclass', random_state=None,\n",
       "                                      reg_alpha=0.0, reg_lambda=0.0,\n",
       "                                      silent=False, subsample=1.0,\n",
       "                                      subsample_for_bin=200000,\n",
       "                                      subsample_freq=0),\n",
       "             iid='warn', n_jobs=4,\n",
       "             param_grid={'colsample_bytree': [0.5, 0.6, 0.7, 0.8, 0.9, 1.0]},\n",
       "             pre_dispatch='2*n_jobs', refit=False, return_train_score=False,\n",
       "             scoring='neg_log_loss', verbose=2)"
      ]
     },
     "execution_count": 32,
     "metadata": {},
     "output_type": "execute_result"
    }
   ],
   "source": [
    "params = {'boosting_type': 'gbdt',\n",
    "          'objective': 'multiclass',\n",
    "          'num_class': 33,\n",
    "          'learning_rate': 0.1,\n",
    "           'n_estimators':n_estimators_1,\n",
    "          'max_depth': max_depth_1,\n",
    "          'num_leaves':num_leaves_1,\n",
    "          'min_child_samples':min_child_samples_1,\n",
    "          'subsample': subsample_1,\n",
    "          'bagging_freq': bagging_freq_1,\n",
    "          'lambda_l1': 0.4,\n",
    "          'lambda_l2': 0.5,\n",
    "          'n_jobs': 4,\n",
    "          'max_bin': 127 #2^6,原始特征为整数，很少超过100\n",
    "         }\n",
    "lg = LGBMClassifier(silent=False,  **params)\n",
    "\n",
    "colsample_bytree_s = [i/10.0 for i in range(5,11)]\n",
    "tuned_parameters = dict( colsample_bytree = colsample_bytree_s)\n",
    "\n",
    "grid_search = GridSearchCV(lg, n_jobs=4,  param_grid=tuned_parameters, cv = kfold, scoring=\"neg_log_loss\", verbose=2, refit = False)\n",
    "grid_search.fit(X_train , y_clf_train)"
   ]
  },
  {
   "cell_type": "code",
   "execution_count": 33,
   "metadata": {},
   "outputs": [
    {
     "name": "stdout",
     "output_type": "stream",
     "text": [
      "2.048941460943096\n",
      "{'colsample_bytree': 0.7}\n"
     ]
    }
   ],
   "source": [
    "# examine the best model\n",
    "print(-grid_search.best_score_)\n",
    "print(grid_search.best_params_)"
   ]
  },
  {
   "cell_type": "code",
   "execution_count": 34,
   "metadata": {},
   "outputs": [
    {
     "data": {
      "image/png": "[encoded data removed]",
      "text/plain": [
       "<Figure size 432x288 with 1 Axes>"
      ]
     },
     "metadata": {
      "needs_background": "light"
     },
     "output_type": "display_data"
    }
   ],
   "source": [
    "# plot CV误差曲线\n",
    "test_means = grid_search.cv_results_[ 'mean_test_score' ]\n",
    "test_stds = grid_search.cv_results_[ 'std_test_score' ]\n",
    "# train_means = grid_search.cv_results_[ 'mean_train_score' ]\n",
    "# train_stds = grid_search.cv_results_[ 'std_train_score' ]\n",
    "\n",
    "x_axis = colsample_bytree_s\n",
    "\n",
    "plt.plot(x_axis, -test_means)\n",
    "#plt.errorbar(x_axis, -test_scores, yerr=test_stds ,label = ' Test')\n",
    "#plt.errorbar(x_axis, -train_scores, yerr=train_stds,label =  +' Train')\n",
    "\n",
    "plt.show()"
   ]
  },
  {
   "cell_type": "code",
   "execution_count": 35,
   "metadata": {},
   "outputs": [],
   "source": [
    "colsample_bytree_1 = list(grid_search.best_params_.values())[0]"
   ]
  },
  {
   "cell_type": "markdown",
   "metadata": {},
   "source": [
    "### 8.lambda_l1"
   ]
  },
  {
   "cell_type": "code",
   "execution_count": 45,
   "metadata": {},
   "outputs": [
    {
     "name": "stdout",
     "output_type": "stream",
     "text": [
      "Fitting 5 folds for each of 4 candidates, totalling 20 fits\n"
     ]
    },
    {
     "name": "stderr",
     "output_type": "stream",
     "text": [
      "[Parallel(n_jobs=4)]: Using backend LokyBackend with 4 concurrent workers.\n",
      "[Parallel(n_jobs=4)]: Done  20 out of  20 | elapsed: 47.7min finished\n"
     ]
    },
    {
     "data": {
      "text/plain": [
       "GridSearchCV(cv=StratifiedKFold(n_splits=5, random_state=3, shuffle=True),\n",
       "             error_score='raise-deprecating',\n",
       "             estimator=LGBMClassifier(bagging_freq=1, boosting_type='gbdt',\n",
       "                                      class_weight=None, colsample_bytree=0.7,\n",
       "                                      importance_type='split', lambda_l2=0.5,\n",
       "                                      learning_rate=0.1, max_bin=127,\n",
       "                                      max_depth=9, min_child_samples=60,\n",
       "                                      min_child_weight=0.001,\n",
       "                                      min_split_gain=0.0, n_estimators=228,\n",
       "                                      n_jobs=4, num_class=33, num_leaves=30,\n",
       "                                      objective='multiclass', random_state=None,\n",
       "                                      reg_alpha=0.0, reg_lambda=0.0,\n",
       "                                      silent=False, subsample=1.0,\n",
       "                                      subsample_for_bin=200000,\n",
       "                                      subsample_freq=0),\n",
       "             iid='warn', n_jobs=4,\n",
       "             param_grid={'lambda_l1': [0.7, 0.8, 0.9, 1.0]},\n",
       "             pre_dispatch='2*n_jobs', refit=False, return_train_score=False,\n",
       "             scoring='neg_log_loss', verbose=2)"
      ]
     },
     "execution_count": 45,
     "metadata": {},
     "output_type": "execute_result"
    }
   ],
   "source": [
    "params = {'boosting_type': 'gbdt',\n",
    "          'objective': 'multiclass',\n",
    "          'num_class': 33,\n",
    "          'learning_rate': 0.1,\n",
    "           'n_estimators':n_estimators_1,\n",
    "          'max_depth': max_depth_1,\n",
    "          'num_leaves':num_leaves_1,\n",
    "          'min_child_samples':min_child_samples_1,\n",
    "          'subsample': subsample_1,\n",
    "          'bagging_freq': bagging_freq_1,\n",
    "          'colsample_bytree': colsample_bytree_1,\n",
    "          'lambda_l2': 0.5,\n",
    "          'n_jobs': 4,\n",
    "          'max_bin': 127 #2^6,原始特征为整数，很少超过100\n",
    "         }\n",
    "lg = LGBMClassifier(silent=False,  **params)\n",
    "\n",
    "lambda_l1_s = [i/10.0 for i in range(7,11)]\n",
    "tuned_parameters = dict( lambda_l1 = lambda_l1_s)\n",
    "\n",
    "grid_search = GridSearchCV(lg, n_jobs=4,  param_grid=tuned_parameters, cv = kfold, scoring=\"neg_log_loss\", verbose=2, refit = False)\n",
    "grid_search.fit(X_train , y_clf_train)"
   ]
  },
  {
   "cell_type": "code",
   "execution_count": 46,
   "metadata": {},
   "outputs": [
    {
     "name": "stdout",
     "output_type": "stream",
     "text": [
      "2.048516808367803\n",
      "{'lambda_l1': 1.0}\n"
     ]
    }
   ],
   "source": [
    "# examine the best model\n",
    "print(-grid_search.best_score_)\n",
    "print(grid_search.best_params_)"
   ]
  },
  {
   "cell_type": "code",
   "execution_count": 47,
   "metadata": {},
   "outputs": [
    {
     "data": {
      "image/png": "[encoded data removed]",
      "text/plain": [
       "<Figure size 432x288 with 1 Axes>"
      ]
     },
     "metadata": {
      "needs_background": "light"
     },
     "output_type": "display_data"
    }
   ],
   "source": [
    "# plot CV误差曲线\n",
    "test_means = grid_search.cv_results_[ 'mean_test_score' ]\n",
    "test_stds = grid_search.cv_results_[ 'std_test_score' ]\n",
    "# train_means = grid_search.cv_results_[ 'mean_train_score' ]\n",
    "# train_stds = grid_search.cv_results_[ 'std_train_score' ]\n",
    "\n",
    "x_axis = lambda_l1_s\n",
    "\n",
    "plt.plot(x_axis, -test_means)\n",
    "#plt.errorbar(x_axis, -test_scores, yerr=test_stds ,label = ' Test')\n",
    "#plt.errorbar(x_axis, -train_scores, yerr=train_stds,label =  +' Train')\n",
    "\n",
    "plt.show()"
   ]
  },
  {
   "cell_type": "code",
   "execution_count": 48,
   "metadata": {},
   "outputs": [],
   "source": [
    "lambda_l1_1 = list(grid_search.best_params_.values())[0]"
   ]
  },
  {
   "cell_type": "markdown",
   "metadata": {},
   "source": [
    "### 9.lambda_l2"
   ]
  },
  {
   "cell_type": "code",
   "execution_count": 49,
   "metadata": {},
   "outputs": [
    {
     "name": "stdout",
     "output_type": "stream",
     "text": [
      "Fitting 5 folds for each of 4 candidates, totalling 20 fits\n"
     ]
    },
    {
     "name": "stderr",
     "output_type": "stream",
     "text": [
      "[Parallel(n_jobs=4)]: Using backend LokyBackend with 4 concurrent workers.\n",
      "[Parallel(n_jobs=4)]: Done  20 out of  20 | elapsed: 48.5min finished\n"
     ]
    },
    {
     "data": {
      "text/plain": [
       "GridSearchCV(cv=StratifiedKFold(n_splits=5, random_state=3, shuffle=True),\n",
       "             error_score='raise-deprecating',\n",
       "             estimator=LGBMClassifier(bagging_freq=1, boosting_type='gbdt',\n",
       "                                      class_weight=None, colsample_bytree=0.7,\n",
       "                                      importance_type='split', lambda_l1=1.0,\n",
       "                                      learning_rate=0.1, max_bin=127,\n",
       "                                      max_depth=9, min_child_samples=60,\n",
       "                                      min_child_weight=0.001,\n",
       "                                      min_split_gain=0.0, n_estimators=228,\n",
       "                                      n_jobs=4, num_class=33, num_leaves=30,\n",
       "                                      objective='multiclass', random_state=None,\n",
       "                                      reg_alpha=0.0, reg_lambda=0.0,\n",
       "                                      silent=False, subsample=1.0,\n",
       "                                      subsample_for_bin=200000,\n",
       "                                      subsample_freq=0),\n",
       "             iid='warn', n_jobs=4,\n",
       "             param_grid={'lambda_l2': [0.7, 0.8, 0.9, 1.0]},\n",
       "             pre_dispatch='2*n_jobs', refit=False, return_train_score=False,\n",
       "             scoring='neg_log_loss', verbose=2)"
      ]
     },
     "execution_count": 49,
     "metadata": {},
     "output_type": "execute_result"
    }
   ],
   "source": [
    "params = {'boosting_type': 'gbdt',\n",
    "          'objective': 'multiclass',\n",
    "          'num_class': 33,\n",
    "          'learning_rate': 0.1,\n",
    "           'n_estimators':n_estimators_1,\n",
    "          'max_depth': max_depth_1,\n",
    "          'num_leaves':num_leaves_1,\n",
    "          'min_child_samples':min_child_samples_1,\n",
    "          'subsample': subsample_1,\n",
    "          'bagging_freq': bagging_freq_1,\n",
    "          'colsample_bytree': colsample_bytree_1,\n",
    "          'lambda_l1': lambda_l1_1,\n",
    "          'n_jobs': 4,\n",
    "          'max_bin': 127 #2^6,原始特征为整数，很少超过100\n",
    "         }\n",
    "lg = LGBMClassifier(silent=False,  **params)\n",
    "\n",
    "lambda_l2_s = [i/10.0 for i in range(7,11)]\n",
    "tuned_parameters = dict( lambda_l2 = lambda_l2_s)\n",
    "\n",
    "grid_search = GridSearchCV(lg, n_jobs=4,  param_grid=tuned_parameters, cv = kfold, scoring=\"neg_log_loss\", verbose=2, refit = False)\n",
    "grid_search.fit(X_train , y_clf_train)"
   ]
  },
  {
   "cell_type": "code",
   "execution_count": 50,
   "metadata": {},
   "outputs": [
    {
     "name": "stdout",
     "output_type": "stream",
     "text": [
      "2.047929465709862\n",
      "{'lambda_l2': 1.0}\n"
     ]
    }
   ],
   "source": [
    "# examine the best model\n",
    "print(-grid_search.best_score_)\n",
    "print(grid_search.best_params_)"
   ]
  },
  {
   "cell_type": "code",
   "execution_count": 51,
   "metadata": {},
   "outputs": [
    {
     "data": {
      "image/png": "[encoded data removed]",
      "text/plain": [
       "<Figure size 432x288 with 1 Axes>"
      ]
     },
     "metadata": {
      "needs_background": "light"
     },
     "output_type": "display_data"
    }
   ],
   "source": [
    "# plot CV误差曲线\n",
    "test_means = grid_search.cv_results_[ 'mean_test_score' ]\n",
    "test_stds = grid_search.cv_results_[ 'std_test_score' ]\n",
    "# train_means = grid_search.cv_results_[ 'mean_train_score' ]\n",
    "# train_stds = grid_search.cv_results_[ 'std_train_score' ]\n",
    "\n",
    "x_axis = lambda_l2_s\n",
    "\n",
    "plt.plot(x_axis, -test_means)\n",
    "#plt.errorbar(x_axis, -test_scores, yerr=test_stds ,label = ' Test')\n",
    "#plt.errorbar(x_axis, -train_scores, yerr=train_stds,label =  +' Train')\n",
    "\n",
    "plt.show()"
   ]
  },
  {
   "cell_type": "code",
   "execution_count": 52,
   "metadata": {},
   "outputs": [],
   "source": [
    "lambda_l2_1 = list(grid_search.best_params_.values())[0]"
   ]
  },
  {
   "cell_type": "markdown",
   "metadata": {},
   "source": [
    "### 10.减小学习率，调整n_estimators"
   ]
  },
  {
   "cell_type": "code",
   "execution_count": 54,
   "metadata": {},
   "outputs": [
    {
     "name": "stderr",
     "output_type": "stream",
     "text": [
      "f:\\software\\python\\lib\\site-packages\\lightgbm\\engine.py:430: UserWarning: Found `n_estimators` in params. Will use it instead of argument\n",
      "  warnings.warn(\"Found `{}` in params. Will use it instead of argument\".format(alias))\n"
     ]
    },
    {
     "name": "stdout",
     "output_type": "stream",
     "text": [
      "best n_estimators: 1\n",
      "best cv score: 0.5918129991784107\n"
     ]
    }
   ],
   "source": [
    "# params = {'boosting_type': 'gbdt',\n",
    "#           'objective': 'multiclass',\n",
    "#           'num_class': 33,\n",
    "#           'learning_rate': 0.01,\n",
    "#            'n_estimators':n_estimators_1,\n",
    "#           'max_depth': max_depth_1,\n",
    "#           'num_leaves':num_leaves_1,\n",
    "#           'min_child_samples':min_child_samples_1,\n",
    "#           'subsample': subsample_1,\n",
    "#           'bagging_freq': bagging_freq_1,\n",
    "#           'colsample_bytree': colsample_bytree_1,\n",
    "#           'lambda_l1': lambda_l1_1,\n",
    "#           'lambda_l2': lambda_l2_1,\n",
    "#           'n_jobs': 4,\n",
    "#           'max_bin': 127 #2^6,原始特征为整数，很少超过100\n",
    "#          }\n",
    "# n_estimators_2 = get_n_estimators(params , X_train , y_clf_train)"
   ]
  },
  {
   "cell_type": "code",
   "execution_count": 23,
   "metadata": {},
   "outputs": [
    {
     "name": "stderr",
     "output_type": "stream",
     "text": [
      "f:\\software\\python\\lib\\site-packages\\lightgbm\\engine.py:430: UserWarning: Found `n_estimators` in params. Will use it instead of argument\n",
      "  warnings.warn(\"Found `{}` in params. Will use it instead of argument\".format(alias))\n"
     ]
    },
    {
     "name": "stdout",
     "output_type": "stream",
     "text": [
      "best n_estimators: 197\n",
      "best cv score: 2.0467543608373093\n"
     ]
    }
   ],
   "source": [
    "params = {'boosting_type': 'gbdt',\n",
    "          'objective': 'multiclass',\n",
    "          'num_class': 33,\n",
    "          'learning_rate': 0.1,\n",
    "           'n_estimators':n_estimators_1,\n",
    "          'max_depth': 9,\n",
    "          'num_leaves':30,\n",
    "          'min_child_samples':60,\n",
    "          'subsample': 1.0,\n",
    "          'bagging_freq': 1,\n",
    "          'colsample_bytree': 0.7,\n",
    "          'lambda_l1': 1,\n",
    "          'lambda_l2': 1,\n",
    "          'n_jobs': 8,\n",
    "          'max_bin': 127 #2^6,原始特征为整数，很少超过100\n",
    "         }\n",
    "n_estimators_2 = get_n_estimators(params , X_train , y_clf_train)"
   ]
  },
  {
   "cell_type": "markdown",
   "metadata": {},
   "source": [
    "### 11.用所有训练数据，采用最佳参数重新训练模型"
   ]
  },
  {
   "cell_type": "code",
   "execution_count": 55,
   "metadata": {},
   "outputs": [
    {
     "data": {
      "text/plain": [
       "LGBMClassifier(bagging_freq=1, boosting_type='gbdt', class_weight=None,\n",
       "               colsample_bytree=0.7, importance_type='split', lambda_l1=1.0,\n",
       "               lambda_l2=1.0, learning_rate=0.1, max_bin=127, max_depth=9,\n",
       "               min_child_samples=60, min_child_weight=0.001, min_split_gain=0.0,\n",
       "               n_estimators=168, n_jobs=4, num_class=33, num_leaves=30,\n",
       "               objective='multiclass', random_state=None, reg_alpha=0.0,\n",
       "               reg_lambda=0.0, silent=False, subsample=1.0,\n",
       "               subsample_for_bin=200000, subsample_freq=0)"
      ]
     },
     "execution_count": 55,
     "metadata": {},
     "output_type": "execute_result"
    }
   ],
   "source": [
    "# params = {'boosting_type': 'gbdt',\n",
    "#           'objective': 'multiclass',\n",
    "#           'num_class': 33,\n",
    "#           'learning_rate': 0.1,\n",
    "#            'n_estimators':168,\n",
    "#           'max_depth': max_depth_1,\n",
    "#           'num_leaves':num_leaves_1,\n",
    "#           'min_child_samples':min_child_samples_1,\n",
    "#           'subsample': subsample_1,\n",
    "#           'bagging_freq': bagging_freq_1,\n",
    "#           'colsample_bytree': colsample_bytree_1,\n",
    "#           'lambda_l1': lambda_l1_1,\n",
    "#           'lambda_l2': lambda_l2_1,\n",
    "#           'n_jobs': 4,\n",
    "#           'max_bin': 127 #2^6,原始特征为整数，很少超过100\n",
    "#          }\n",
    "# lg = LGBMClassifier(silent=False,  **params)\n",
    "# lg.fit(X_train, y_clf_train)"
   ]
  },
  {
   "cell_type": "code",
   "execution_count": 24,
   "metadata": {},
   "outputs": [
    {
     "data": {
      "text/plain": [
       "LGBMClassifier(bagging_freq=1, boosting_type='gbdt', class_weight=None,\n",
       "               colsample_bytree=0.7, importance_type='split', lambda_l1=1,\n",
       "               lambda_l2=1, learning_rate=0.1, max_bin=127, max_depth=9,\n",
       "               min_child_samples=60, min_child_weight=0.001, min_split_gain=0.0,\n",
       "               n_estimators=197, n_jobs=8, num_class=33, num_leaves=30,\n",
       "               objective='multiclass', random_state=None, reg_alpha=0.0,\n",
       "               reg_lambda=0.0, silent=False, subsample=1.0,\n",
       "               subsample_for_bin=200000, subsample_freq=0)"
      ]
     },
     "execution_count": 24,
     "metadata": {},
     "output_type": "execute_result"
    }
   ],
   "source": [
    "params = {'boosting_type': 'gbdt',\n",
    "          'objective': 'multiclass',\n",
    "          'num_class': 33,\n",
    "          'learning_rate': 0.1,\n",
    "           'n_estimators':n_estimators_2,\n",
    "          'max_depth': 9,\n",
    "          'num_leaves':30,\n",
    "          'min_child_samples':60,\n",
    "          'subsample': 1.0,\n",
    "          'bagging_freq': 1,\n",
    "          'colsample_bytree': 0.7,\n",
    "          'lambda_l1': 1,\n",
    "          'lambda_l2': 1,\n",
    "          'n_jobs': 8,\n",
    "          'max_bin': 127 #2^6,原始特征为整数，很少超过100\n",
    "         }\n",
    "lg = LGBMClassifier(silent=False,  **params)\n",
    "lg.fit(X_train, y_clf_train)"
   ]
  },
  {
   "cell_type": "markdown",
   "metadata": {},
   "source": [
    "## 保存模型"
   ]
  },
  {
   "cell_type": "code",
   "execution_count": 25,
   "metadata": {},
   "outputs": [],
   "source": [
    "import pickle\n",
    "\n",
    "pickle.dump(lg, open(\"lgb_gbdt.pkl\", 'wb'))"
   ]
  },
  {
   "cell_type": "code",
   "execution_count": 26,
   "metadata": {},
   "outputs": [],
   "source": [
    "df = pd.DataFrame({\"columns\":list(feat_names), \"importance\":list(lg.feature_importances_.T)})\n",
    "df = df.sort_values(by=['importance'],ascending=False)"
   ]
  },
  {
   "cell_type": "code",
   "execution_count": 27,
   "metadata": {},
   "outputs": [
    {
     "data": {
      "text/html": [
       "<div>\n",
       "<style scoped>\n",
       "    .dataframe tbody tr th:only-of-type {\n",
       "        vertical-align: middle;\n",
       "    }\n",
       "\n",
       "    .dataframe tbody tr th {\n",
       "        vertical-align: top;\n",
       "    }\n",
       "\n",
       "    .dataframe thead th {\n",
       "        text-align: right;\n",
       "    }\n",
       "</style>\n",
       "<table border=\"1\" class=\"dataframe\">\n",
       "  <thead>\n",
       "    <tr style=\"text-align: right;\">\n",
       "      <th></th>\n",
       "      <th>columns</th>\n",
       "      <th>importance</th>\n",
       "    </tr>\n",
       "  </thead>\n",
       "  <tbody>\n",
       "    <tr>\n",
       "      <th>16</th>\n",
       "      <td>early_repay_days_std</td>\n",
       "      <td>6962</td>\n",
       "    </tr>\n",
       "    <tr>\n",
       "      <th>5</th>\n",
       "      <td>principal</td>\n",
       "      <td>6717</td>\n",
       "    </tr>\n",
       "    <tr>\n",
       "      <th>15</th>\n",
       "      <td>early_repay_days_mean</td>\n",
       "      <td>6419</td>\n",
       "    </tr>\n",
       "    <tr>\n",
       "      <th>1</th>\n",
       "      <td>listing_id</td>\n",
       "      <td>6283</td>\n",
       "    </tr>\n",
       "    <tr>\n",
       "      <th>13</th>\n",
       "      <td>early_repay_days_median</td>\n",
       "      <td>5855</td>\n",
       "    </tr>\n",
       "    <tr>\n",
       "      <th>12</th>\n",
       "      <td>early_repay_days_max</td>\n",
       "      <td>5405</td>\n",
       "    </tr>\n",
       "    <tr>\n",
       "      <th>7</th>\n",
       "      <td>age</td>\n",
       "      <td>5002</td>\n",
       "    </tr>\n",
       "    <tr>\n",
       "      <th>62</th>\n",
       "      <td>behaviro_type3</td>\n",
       "      <td>4828</td>\n",
       "    </tr>\n",
       "    <tr>\n",
       "      <th>59</th>\n",
       "      <td>sum</td>\n",
       "      <td>4444</td>\n",
       "    </tr>\n",
       "    <tr>\n",
       "      <th>14</th>\n",
       "      <td>early_repay_days_sum</td>\n",
       "      <td>4397</td>\n",
       "    </tr>\n",
       "    <tr>\n",
       "      <th>0</th>\n",
       "      <td>user_id</td>\n",
       "      <td>4326</td>\n",
       "    </tr>\n",
       "    <tr>\n",
       "      <th>60</th>\n",
       "      <td>behaviro_type1</td>\n",
       "      <td>4134</td>\n",
       "    </tr>\n",
       "    <tr>\n",
       "      <th>10</th>\n",
       "      <td>id_city</td>\n",
       "      <td>3983</td>\n",
       "    </tr>\n",
       "    <tr>\n",
       "      <th>28</th>\n",
       "      <td>auditing_date_day</td>\n",
       "      <td>3728</td>\n",
       "    </tr>\n",
       "    <tr>\n",
       "      <th>21</th>\n",
       "      <td>due_amt_sum</td>\n",
       "      <td>3683</td>\n",
       "    </tr>\n",
       "    <tr>\n",
       "      <th>18</th>\n",
       "      <td>due_amt_min</td>\n",
       "      <td>3642</td>\n",
       "    </tr>\n",
       "    <tr>\n",
       "      <th>49</th>\n",
       "      <td>user_tag_em6</td>\n",
       "      <td>3379</td>\n",
       "    </tr>\n",
       "    <tr>\n",
       "      <th>23</th>\n",
       "      <td>due_amt_skew</td>\n",
       "      <td>3377</td>\n",
       "    </tr>\n",
       "    <tr>\n",
       "      <th>26</th>\n",
       "      <td>due_amt_per_days</td>\n",
       "      <td>3261</td>\n",
       "    </tr>\n",
       "    <tr>\n",
       "      <th>57</th>\n",
       "      <td>user_tag_em14</td>\n",
       "      <td>3256</td>\n",
       "    </tr>\n",
       "    <tr>\n",
       "      <th>51</th>\n",
       "      <td>user_tag_em8</td>\n",
       "      <td>3244</td>\n",
       "    </tr>\n",
       "    <tr>\n",
       "      <th>53</th>\n",
       "      <td>user_tag_em10</td>\n",
       "      <td>3235</td>\n",
       "    </tr>\n",
       "    <tr>\n",
       "      <th>47</th>\n",
       "      <td>user_tag_em4</td>\n",
       "      <td>3219</td>\n",
       "    </tr>\n",
       "    <tr>\n",
       "      <th>54</th>\n",
       "      <td>user_tag_em11</td>\n",
       "      <td>3216</td>\n",
       "    </tr>\n",
       "    <tr>\n",
       "      <th>58</th>\n",
       "      <td>user_tag_em15</td>\n",
       "      <td>3197</td>\n",
       "    </tr>\n",
       "    <tr>\n",
       "      <th>2</th>\n",
       "      <td>due_amt</td>\n",
       "      <td>3194</td>\n",
       "    </tr>\n",
       "    <tr>\n",
       "      <th>43</th>\n",
       "      <td>user_tag_em0</td>\n",
       "      <td>3187</td>\n",
       "    </tr>\n",
       "    <tr>\n",
       "      <th>45</th>\n",
       "      <td>user_tag_em2</td>\n",
       "      <td>3178</td>\n",
       "    </tr>\n",
       "    <tr>\n",
       "      <th>52</th>\n",
       "      <td>user_tag_em9</td>\n",
       "      <td>3157</td>\n",
       "    </tr>\n",
       "    <tr>\n",
       "      <th>50</th>\n",
       "      <td>user_tag_em7</td>\n",
       "      <td>3150</td>\n",
       "    </tr>\n",
       "    <tr>\n",
       "      <th>...</th>\n",
       "      <td>...</td>\n",
       "      <td>...</td>\n",
       "    </tr>\n",
       "    <tr>\n",
       "      <th>46</th>\n",
       "      <td>user_tag_em3</td>\n",
       "      <td>3074</td>\n",
       "    </tr>\n",
       "    <tr>\n",
       "      <th>22</th>\n",
       "      <td>due_amt_std</td>\n",
       "      <td>3025</td>\n",
       "    </tr>\n",
       "    <tr>\n",
       "      <th>55</th>\n",
       "      <td>user_tag_em12</td>\n",
       "      <td>3020</td>\n",
       "    </tr>\n",
       "    <tr>\n",
       "      <th>19</th>\n",
       "      <td>due_amt_median</td>\n",
       "      <td>2789</td>\n",
       "    </tr>\n",
       "    <tr>\n",
       "      <th>24</th>\n",
       "      <td>due_amt_kurt</td>\n",
       "      <td>2770</td>\n",
       "    </tr>\n",
       "    <tr>\n",
       "      <th>9</th>\n",
       "      <td>id_province</td>\n",
       "      <td>2605</td>\n",
       "    </tr>\n",
       "    <tr>\n",
       "      <th>20</th>\n",
       "      <td>due_amt_mean</td>\n",
       "      <td>2599</td>\n",
       "    </tr>\n",
       "    <tr>\n",
       "      <th>8</th>\n",
       "      <td>cell_province</td>\n",
       "      <td>2498</td>\n",
       "    </tr>\n",
       "    <tr>\n",
       "      <th>37</th>\n",
       "      <td>info_insert_date_day</td>\n",
       "      <td>2496</td>\n",
       "    </tr>\n",
       "    <tr>\n",
       "      <th>17</th>\n",
       "      <td>due_amt_max</td>\n",
       "      <td>2470</td>\n",
       "    </tr>\n",
       "    <tr>\n",
       "      <th>32</th>\n",
       "      <td>due_date_dayofweek</td>\n",
       "      <td>2040</td>\n",
       "    </tr>\n",
       "    <tr>\n",
       "      <th>41</th>\n",
       "      <td>tag_insert_date_day</td>\n",
       "      <td>2035</td>\n",
       "    </tr>\n",
       "    <tr>\n",
       "      <th>40</th>\n",
       "      <td>tag_insert_date_month</td>\n",
       "      <td>2027</td>\n",
       "    </tr>\n",
       "    <tr>\n",
       "      <th>25</th>\n",
       "      <td>due_amt_ptp</td>\n",
       "      <td>2015</td>\n",
       "    </tr>\n",
       "    <tr>\n",
       "      <th>30</th>\n",
       "      <td>due_date_month</td>\n",
       "      <td>1907</td>\n",
       "    </tr>\n",
       "    <tr>\n",
       "      <th>61</th>\n",
       "      <td>behaviro_type2</td>\n",
       "      <td>1839</td>\n",
       "    </tr>\n",
       "    <tr>\n",
       "      <th>34</th>\n",
       "      <td>reg_mon_month</td>\n",
       "      <td>1681</td>\n",
       "    </tr>\n",
       "    <tr>\n",
       "      <th>27</th>\n",
       "      <td>auditing_date_month</td>\n",
       "      <td>1549</td>\n",
       "    </tr>\n",
       "    <tr>\n",
       "      <th>36</th>\n",
       "      <td>info_insert_date_month</td>\n",
       "      <td>1515</td>\n",
       "    </tr>\n",
       "    <tr>\n",
       "      <th>11</th>\n",
       "      <td>repay_mean</td>\n",
       "      <td>1403</td>\n",
       "    </tr>\n",
       "    <tr>\n",
       "      <th>35</th>\n",
       "      <td>info_insert_date_year</td>\n",
       "      <td>1396</td>\n",
       "    </tr>\n",
       "    <tr>\n",
       "      <th>29</th>\n",
       "      <td>auditing_date_dayofweek</td>\n",
       "      <td>1286</td>\n",
       "    </tr>\n",
       "    <tr>\n",
       "      <th>31</th>\n",
       "      <td>due_date_day</td>\n",
       "      <td>1225</td>\n",
       "    </tr>\n",
       "    <tr>\n",
       "      <th>38</th>\n",
       "      <td>info_insert_date_dayofweek</td>\n",
       "      <td>1150</td>\n",
       "    </tr>\n",
       "    <tr>\n",
       "      <th>3</th>\n",
       "      <td>term</td>\n",
       "      <td>1063</td>\n",
       "    </tr>\n",
       "    <tr>\n",
       "      <th>4</th>\n",
       "      <td>rate</td>\n",
       "      <td>941</td>\n",
       "    </tr>\n",
       "    <tr>\n",
       "      <th>42</th>\n",
       "      <td>tag_insert_date_dayofweek</td>\n",
       "      <td>910</td>\n",
       "    </tr>\n",
       "    <tr>\n",
       "      <th>6</th>\n",
       "      <td>gender</td>\n",
       "      <td>361</td>\n",
       "    </tr>\n",
       "    <tr>\n",
       "      <th>33</th>\n",
       "      <td>reg_mon_year</td>\n",
       "      <td>290</td>\n",
       "    </tr>\n",
       "    <tr>\n",
       "      <th>39</th>\n",
       "      <td>tag_insert_date_year</td>\n",
       "      <td>165</td>\n",
       "    </tr>\n",
       "  </tbody>\n",
       "</table>\n",
       "<p>63 rows × 2 columns</p>\n",
       "</div>"
      ],
      "text/plain": [
       "                       columns  importance\n",
       "16        early_repay_days_std        6962\n",
       "5                    principal        6717\n",
       "15       early_repay_days_mean        6419\n",
       "1                   listing_id        6283\n",
       "13     early_repay_days_median        5855\n",
       "12        early_repay_days_max        5405\n",
       "7                          age        5002\n",
       "62              behaviro_type3        4828\n",
       "59                         sum        4444\n",
       "14        early_repay_days_sum        4397\n",
       "0                      user_id        4326\n",
       "60              behaviro_type1        4134\n",
       "10                     id_city        3983\n",
       "28           auditing_date_day        3728\n",
       "21                 due_amt_sum        3683\n",
       "18                 due_amt_min        3642\n",
       "49                user_tag_em6        3379\n",
       "23                due_amt_skew        3377\n",
       "26            due_amt_per_days        3261\n",
       "57               user_tag_em14        3256\n",
       "51                user_tag_em8        3244\n",
       "53               user_tag_em10        3235\n",
       "47                user_tag_em4        3219\n",
       "54               user_tag_em11        3216\n",
       "58               user_tag_em15        3197\n",
       "2                      due_amt        3194\n",
       "43                user_tag_em0        3187\n",
       "45                user_tag_em2        3178\n",
       "52                user_tag_em9        3157\n",
       "50                user_tag_em7        3150\n",
       "..                         ...         ...\n",
       "46                user_tag_em3        3074\n",
       "22                 due_amt_std        3025\n",
       "55               user_tag_em12        3020\n",
       "19              due_amt_median        2789\n",
       "24                due_amt_kurt        2770\n",
       "9                  id_province        2605\n",
       "20                due_amt_mean        2599\n",
       "8                cell_province        2498\n",
       "37        info_insert_date_day        2496\n",
       "17                 due_amt_max        2470\n",
       "32          due_date_dayofweek        2040\n",
       "41         tag_insert_date_day        2035\n",
       "40       tag_insert_date_month        2027\n",
       "25                 due_amt_ptp        2015\n",
       "30              due_date_month        1907\n",
       "61              behaviro_type2        1839\n",
       "34               reg_mon_month        1681\n",
       "27         auditing_date_month        1549\n",
       "36      info_insert_date_month        1515\n",
       "11                  repay_mean        1403\n",
       "35       info_insert_date_year        1396\n",
       "29     auditing_date_dayofweek        1286\n",
       "31                due_date_day        1225\n",
       "38  info_insert_date_dayofweek        1150\n",
       "3                         term        1063\n",
       "4                         rate         941\n",
       "42   tag_insert_date_dayofweek         910\n",
       "6                       gender         361\n",
       "33                reg_mon_year         290\n",
       "39        tag_insert_date_year         165\n",
       "\n",
       "[63 rows x 2 columns]"
      ]
     },
     "execution_count": 27,
     "metadata": {},
     "output_type": "execute_result"
    }
   ],
   "source": [
    "df"
   ]
  },
  {
   "cell_type": "code",
   "execution_count": null,
   "metadata": {},
   "outputs": [],
   "source": []
  }
 ],
 "metadata": {
  "kernelspec": {
   "display_name": "Python 3",
   "language": "python",
   "name": "python3"
  },
  "language_info": {
   "codemirror_mode": {
    "name": "ipython",
    "version": 3
   },
   "file_extension": ".py",
   "mimetype": "text/x-python",
   "name": "python",
   "nbconvert_exporter": "python",
   "pygments_lexer": "ipython3",
   "version": "3.5.4"
  }
 },
 "nbformat": 4,
 "nbformat_minor": 2
}
